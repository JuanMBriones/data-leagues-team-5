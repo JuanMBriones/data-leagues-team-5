{
 "cells": [
  {
   "cell_type": "markdown",
   "id": "ad05c8bd-cd08-4e99-8005-b443f57026c8",
   "metadata": {},
   "source": [
    "# Postwork Sesión 4\n",
    "\n",
    "#### Objetivo\n",
    "\n",
    "- Investigar la dependencia o independecia de las variables aleatorias X y Y, el número de goles anotados por el equipo de casa y el número de goles anotados por el equipo visitante.\n",
    "\n",
    "#### Requisitos\n",
    "\n",
    "- R, RStudio\n",
    "- Haber trabajado con el prework y el work\n",
    "\n",
    "#### Desarrollo\n",
    "\n",
    "Ahora investigarás la dependencia o independencia del número de goles anotados por el equipo de casa y el número de goles anotados por el equipo visitante mediante un procedimiento denominado bootstrap, revisa bibliografía en internet para que tengas nociones de este desarrollo. \n",
    "\n",
    "1. Ya hemos estimado las probabilidades conjuntas de que el equipo de casa anote X=x goles (x=0,1,... ,8), y el equipo visitante anote Y=y goles (y=0,1,... ,6), en un partido. Obtén una tabla de cocientes al dividir estas probabilidades conjuntas por el producto de las probabilidades marginales correspondientes.\n",
    "\n",
    "2. Mediante un procedimiento de boostrap, obtén más cocientes similares a los obtenidos en la tabla del punto anterior. Esto para tener una idea de las distribuciones de la cual vienen los cocientes en la tabla anterior. Menciona en cuáles casos le parece razonable suponer que los cocientes de la tabla en el punto 1, son iguales a 1 (en tal caso tendríamos independencia de las variables aleatorias X y Y).\n",
    "\n",
    "__Notas para los datos de soccer:__ https://www.football-data.co.uk/notes.txt"
   ]
  },
  {
   "cell_type": "code",
   "execution_count": 10,
   "id": "13c0d5c7-8f36-4565-9e8c-98de387e0b45",
   "metadata": {},
   "outputs": [
    {
     "name": "stderr",
     "output_type": "stream",
     "text": [
      "------------------------------------------------------------------------------\n",
      "You have loaded plyr after dplyr - this is likely to cause problems.\n",
      "If you need functions from both plyr and dplyr, please load plyr first, then dplyr:\n",
      "library(plyr); library(dplyr)\n",
      "------------------------------------------------------------------------------\n",
      "\n",
      "Attaching package: 'plyr'\n",
      "\n",
      "The following objects are masked from 'package:dplyr':\n",
      "\n",
      "    arrange, count, desc, failwith, id, mutate, rename, summarise,\n",
      "    summarize\n",
      "\n"
     ]
    }
   ],
   "source": [
    "setwd(\"c:/Users/eherr/OneDrive/Documents/BEDU/ProgramacionYEstadisticaConR/Sesion2/Files/PostworkSesion2\")\n",
    "library(plyr)\n",
    "library(tensor)\n",
    "library(ggplot2)"
   ]
  },
  {
   "cell_type": "code",
   "execution_count": 11,
   "id": "ffec78aa-559b-498f-b5b5-9867b1219120",
   "metadata": {},
   "outputs": [],
   "source": [
    "data_partidos_18_21 <- read.csv(\"Partidos_18_21.csv\")"
   ]
  },
  {
   "cell_type": "code",
   "execution_count": 40,
   "id": "562cd828-b4ad-4518-a27e-e362abfac806",
   "metadata": {},
   "outputs": [],
   "source": [
    "probRatio <- function(md) {\n",
    "    library(tensor)\n",
    "    t1 <- prop.table(table(md$FTHG))\n",
    "    t2 <- prop.table(table(md$FTAG))\n",
    "    t3 <- prop.table(table(md$FTHG, md$FTAG))\n",
    "    # 1- Crear una matriz con los productos de cada elemento del vector con la \n",
    "    #    probabilidad de los goles de casa \"probabilidad_goles_casa\" con cada uno de\n",
    "    #    los elementos del vector que almacena la probabilidad de goles visitante \n",
    "    #   \"probabilidad_goles_visitante\"\n",
    "    ext_prod <- as.data.frame(tensor::tensor(t1, t2))\n",
    "    # 2- Obtener el inverso multiplicativo de cada elemento de la matriz anterior \"prod\"\n",
    "    ext_prod_inv <- apply(ext_prod, c(1, 2), '^', -1)\n",
    "    # 3- Obtener la matriz resultante del producto elemento a elemento de la matriz \n",
    "    #    anterior con la matriz de probabilidad de goles \"matriz_prob_goles\"\n",
    "    res <- as.data.frame(ext_prod_inv * t3)\n",
    "    # res <- rename(res, c(Gols_casa=Var1, Gols_vis=Var2, cociente=Freq))\n",
    "    # Por alguna extraña razón, la línea anterior no funciona en jupyter.\n",
    "    # pero sí lo hace en RStudio.\n",
    "    return(res)\n",
    "}"
   ]
  },
  {
   "cell_type": "code",
   "execution_count": 42,
   "id": "f32b2549-d055-4d12-9161-0ee14c4f416c",
   "metadata": {},
   "outputs": [
    {
     "data": {
      "text/html": [
       "<table>\n",
       "<thead><tr><th scope=col>Var1</th><th scope=col>Var2</th><th scope=col>Freq</th></tr></thead>\n",
       "<tbody>\n",
       "\t<tr><td>0        </td><td>0        </td><td>0.9547829</td></tr>\n",
       "\t<tr><td>1        </td><td>0        </td><td>1.0060639</td></tr>\n",
       "\t<tr><td>2        </td><td>0        </td><td>0.9351621</td></tr>\n",
       "\t<tr><td>3        </td><td>0        </td><td>1.1327151</td></tr>\n",
       "\t<tr><td>4        </td><td>0        </td><td>1.1371571</td></tr>\n",
       "\t<tr><td>5        </td><td>0        </td><td>1.2922240</td></tr>\n",
       "</tbody>\n",
       "</table>\n"
      ],
      "text/latex": [
       "\\begin{tabular}{r|lll}\n",
       " Var1 & Var2 & Freq\\\\\n",
       "\\hline\n",
       "\t 0         & 0         & 0.9547829\\\\\n",
       "\t 1         & 0         & 1.0060639\\\\\n",
       "\t 2         & 0         & 0.9351621\\\\\n",
       "\t 3         & 0         & 1.1327151\\\\\n",
       "\t 4         & 0         & 1.1371571\\\\\n",
       "\t 5         & 0         & 1.2922240\\\\\n",
       "\\end{tabular}\n"
      ],
      "text/markdown": [
       "\n",
       "| Var1 | Var2 | Freq |\n",
       "|---|---|---|\n",
       "| 0         | 0         | 0.9547829 |\n",
       "| 1         | 0         | 1.0060639 |\n",
       "| 2         | 0         | 0.9351621 |\n",
       "| 3         | 0         | 1.1327151 |\n",
       "| 4         | 0         | 1.1371571 |\n",
       "| 5         | 0         | 1.2922240 |\n",
       "\n"
      ],
      "text/plain": [
       "  Var1 Var2 Freq     \n",
       "1 0    0    0.9547829\n",
       "2 1    0    1.0060639\n",
       "3 2    0    0.9351621\n",
       "4 3    0    1.1327151\n",
       "5 4    0    1.1371571\n",
       "6 5    0    1.2922240"
      ]
     },
     "metadata": {},
     "output_type": "display_data"
    }
   ],
   "source": [
    "df_cociente <- probRatio(data_partidos_18_21)\n",
    "head(df_cociente)"
   ]
  },
  {
   "cell_type": "code",
   "execution_count": 44,
   "id": "00fea5fa-0dc6-4eee-a45c-3af9f4c45a2c",
   "metadata": {},
   "outputs": [],
   "source": [
    "media_muestral <- mean(df_cociente$Freq)"
   ]
  },
  {
   "cell_type": "code",
   "execution_count": 48,
   "id": "3b53eab8-1e77-4214-b13a-74bbbe3bf0a0",
   "metadata": {},
   "outputs": [],
   "source": [
    "bootstrap <- replicate(n=10000, sample(df_cociente$Freq, replace = TRUE))"
   ]
  },
  {
   "cell_type": "code",
   "execution_count": 49,
   "id": "ae4c1ee5-0959-4240-904c-ebac311e66f3",
   "metadata": {},
   "outputs": [],
   "source": [
    "medias <- apply(bootstrap, MARGIN = 2, FUN = mean)"
   ]
  },
  {
   "cell_type": "code",
   "execution_count": 50,
   "id": "9cf11604-a381-4df0-8a69-c75556223834",
   "metadata": {},
   "outputs": [],
   "source": [
    "desv_est <- sqrt(sum((medias - media_muestral) ** 2) / length(medias))"
   ]
  },
  {
   "cell_type": "code",
   "execution_count": 52,
   "id": "331143c0-1a4f-47ed-a7e3-d8659d4fb4af",
   "metadata": {},
   "outputs": [
    {
     "name": "stderr",
     "output_type": "stream",
     "text": [
      "`stat_bin()` using `bins = 30`. Pick better value with `binwidth`.\n"
     ]
    },
    {
     "data": {
      "image/png": "[encoded data removed]",
      "text/plain": [
       "plot without title"
      ]
     },
     "metadata": {},
     "output_type": "display_data"
    }
   ],
   "source": [
    "hist_bootstrap <- ggplot() + \n",
    "  geom_histogram(aes(x = medias), color=\"black\") + \n",
    "  geom_vline(xintercept = media_muestral, size=1, color=\"darkred\") +\n",
    "  ylab(\"Frecuencia\") +\n",
    "  ggtitle(\"Histograma de las medias\")\n",
    "hist_bootstrap\n"
   ]
  },
  {
   "cell_type": "code",
   "execution_count": 53,
   "id": "a0946202-2d2f-40e9-873e-a8909deee676",
   "metadata": {},
   "outputs": [
    {
     "data": {
      "text/plain": [
       "\n",
       "\tOne Sample t-test\n",
       "\n",
       "data:  medias\n",
       "t = 708.29, df = 9999, p-value < 2.2e-16\n",
       "alternative hypothesis: true mean is not equal to 0\n",
       "95 percent confidence interval:\n",
       " 0.8592724 0.8640417\n",
       "sample estimates:\n",
       "mean of x \n",
       " 0.861657 \n"
      ]
     },
     "metadata": {},
     "output_type": "display_data"
    }
   ],
   "source": [
    "t.test(medias)"
   ]
  },
  {
   "cell_type": "code",
   "execution_count": null,
   "id": "8a8e8224-4958-440f-998e-f6781c021556",
   "metadata": {},
   "outputs": [],
   "source": []
  }
 ],
 "metadata": {
  "kernelspec": {
   "display_name": "Python 3",
   "language": "python",
   "name": "python3"
  },
  "language_info": {
   "codemirror_mode": {
    "name": "ipython",
    "version": 3
   },
   "file_extension": ".py",
   "mimetype": "text/x-python",
   "name": "python",
   "nbconvert_exporter": "python",
   "pygments_lexer": "ipython3",
   "version": "3.8.8"
  }
 },
 "nbformat": 4,
 "nbformat_minor": 5
}
