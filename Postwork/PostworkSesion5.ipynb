{
 "cells": [
  {
   "cell_type": "markdown",
   "id": "0f13b9bd-80f3-49c8-96d8-bef9348e8743",
   "metadata": {},
   "source": [
    "# Postwork Sesión 5\n",
    "\n",
    "### OBJETIVO\n",
    "\n",
    "- Continuar con el desarrollo de los postworks; en esta ocasión se utiliza la función `predict` para realizar predicciones de los resultados de partidos para una fecha determinada\n",
    "\n",
    "#### REQUISITOS\n",
    "\n",
    "- Haber desarrollado los postworks anteriores\n",
    "- Cubrir los temas del prework\n",
    "- Replicar los ejemplos de la sesión\n",
    "\n",
    "#### DESARROLLO\n",
    "\n",
    "1. A partir del conjunto de datos de soccer de la liga española de las temporadas 2017/2018, 2018/2019 y 2019/2020, crea el data frame `SmallData`, que contenga las columnas `date`, `home.team`, `home.score`, `away.team` y `away.score`; esto lo puede hacer con ayuda de la función `select` del paquete `dplyr`. Luego establece un directorio de trabajo y con ayuda de la función `write.csv` guarda el data frame como un archivo csv con nombre *soccer.csv*. Puedes colocar como argumento `row.names = FALSE` en `write.csv`. \n",
    "\n",
    "2. Con la función `create.fbRanks.dataframes` del paquete `fbRanks` importe el archivo *soccer.csv* a `R` y al mismo tiempo asignelo a una variable llamada `listasoccer`. Se creará una lista con los elementos `scores` y `teams` que son data frames listos para la función `rank.teams`. Asigna estos data frames a variables llamadas `anotaciones` y `equipos`.\n",
    "\n",
    "3. Con ayuda de la función `unique` crea un vector de fechas (`fecha`) que no se repitan y que correspondan a las fechas en las que se jugaron partidos. Crea una variable llamada `n` que contenga el número de fechas diferentes. Posteriormente, con la función `rank.teams` y usando como argumentos los data frames `anotaciones` y `equipos`, crea un ranking de equipos usando únicamente datos desde la fecha inicial y hasta la penúltima fecha en la que se jugaron partidos, estas fechas las deberá especificar en `max.date` y `min.date`. Guarda los resultados con el nombre `ranking`.\n",
    "\n",
    "4. Finalmente estima las probabilidades de los eventos, el equipo de casa gana, el equipo visitante gana o el resultado es un empate para los partidos que se jugaron en la última fecha del vector de fechas `fecha`. Esto lo puedes hacer con ayuda de la función `predict` y usando como argumentos `ranking` y `fecha[n]` que deberá especificar en `date`.\n",
    "\n",
    "__Notas para los datos de soccer:__ https://www.football-data.co.uk/notes.txt"
   ]
  },
  {
   "cell_type": "markdown",
   "id": "06435824-fba8-4e38-9048-624b522d4dac",
   "metadata": {},
   "source": [
    "# PostWork"
   ]
  },
  {
   "cell_type": "markdown",
   "id": "adb9cb57-ff54-473e-a2b7-2b2d816fc424",
   "metadata": {},
   "source": [
    "Se importan las librerías necesarias."
   ]
  },
  {
   "cell_type": "code",
   "execution_count": 1,
   "id": "a828a823-40bd-4c36-b98b-8f3a695f6f5a",
   "metadata": {},
   "outputs": [
    {
     "name": "stderr",
     "output_type": "stream",
     "text": [
      "\n",
      "Attaching package: 'dplyr'\n",
      "\n",
      "The following objects are masked from 'package:stats':\n",
      "\n",
      "    filter, lag\n",
      "\n",
      "The following objects are masked from 'package:base':\n",
      "\n",
      "    intersect, setdiff, setequal, union\n",
      "\n",
      "Warning message:\n",
      "\"package 'fbRanks' was built under R version 3.6.3\""
     ]
    }
   ],
   "source": [
    "library(dplyr)\n",
    "library(fbRanks)"
   ]
  },
  {
   "cell_type": "markdown",
   "id": "eb1fbfc5-a7ba-4a0e-9a79-51c98750a085",
   "metadata": {},
   "source": [
    "Con la función read.csv() se guardan los campos y registros de los archivos .csv seleccionados y los almacena en objetos de tipo data.frame."
   ]
  },
  {
   "cell_type": "code",
   "execution_count": 2,
   "id": "21c800d9-a236-4c4b-8606-236e9be84be5",
   "metadata": {},
   "outputs": [],
   "source": [
    "partidos_17 <- read.csv(\"https://raw.githubusercontent.com/JuanMBriones/data-leagues-team-5/Emiliano/Postwork/Files/esp18.csv\")\n",
    "partidos_18 <- read.csv(\"https://raw.githubusercontent.com/JuanMBriones/data-leagues-team-5/Emiliano/Postwork/Files/esp19.csv\")\n",
    "partidos_19 <- read.csv(\"https://raw.githubusercontent.com/JuanMBriones/data-leagues-team-5/Emiliano/Postwork/Files/esp20.csv\")"
   ]
  },
  {
   "cell_type": "markdown",
   "id": "c3d5bcf2-5183-43c4-b154-708c7519c56c",
   "metadata": {},
   "source": [
    "La función `select()` permite seleccionar los campos deseados de un data.frame."
   ]
  },
  {
   "cell_type": "code",
   "execution_count": 3,
   "id": "33c73028-bf59-4917-96d5-efd27fab249f",
   "metadata": {},
   "outputs": [],
   "source": [
    "partidos_17 <- select(partidos_17, \n",
    "                      c(\"Date\", \"HomeTeam\", \"FTHG\", \"AwayTeam\", \"FTAG\"))\n",
    "partidos_18 <- select(partidos_18,\n",
    "                      c(\"Date\", \"HomeTeam\", \"FTHG\", \"AwayTeam\", \"FTAG\"))\n",
    "partidos_19 <- select(partidos_19, \n",
    "                      c(\"Date\", \"HomeTeam\", \"FTHG\", \"AwayTeam\", \"FTAG\"))"
   ]
  },
  {
   "cell_type": "markdown",
   "id": "aa1a2148-3ee7-4257-b902-335191999bd8",
   "metadata": {},
   "source": [
    "La función mutate cambia el formato de dato del campo que se deseé. En este caso el campo \"date\"."
   ]
  },
  {
   "cell_type": "code",
   "execution_count": 4,
   "id": "3cc8c94e-b029-497d-8c31-b3da9fa3db79",
   "metadata": {},
   "outputs": [],
   "source": [
    "partidos_17 <- mutate(partidos_17,\n",
    "                      Date=as.Date(Date, \"%d/%m/%y\"))\n",
    "partidos_18 <- mutate(partidos_18, \n",
    "                      Date=as.Date(Date, \"%d/%m/%y\"))\n",
    "partidos_19 <- mutate(partidos_19, \n",
    "                      Date=as.Date(Date, \"%d/%m/%y\"))"
   ]
  },
  {
   "cell_type": "markdown",
   "id": "33ca90ac-7533-44a8-9347-22e979b3acc8",
   "metadata": {},
   "source": [
    "La función `do.call()` compuesta con las funciones `rbind()` y `list()`, une los tres dataframes por campo y en orden ascendente en en campo de la fecha."
   ]
  },
  {
   "cell_type": "code",
   "execution_count": 5,
   "id": "1b9cccbf-5ae5-4e17-acc2-e8d20a836d4a",
   "metadata": {},
   "outputs": [],
   "source": [
    "SmallData <- do.call(rbind, list(partidos_17, \n",
    "                                 partidos_18, \n",
    "                                 partidos_19))"
   ]
  },
  {
   "cell_type": "markdown",
   "id": "4ca08dbe-0642-47e4-bd3a-cd5213ad36cc",
   "metadata": {},
   "source": [
    "La función `rename()` permite cambiar el nombre de los campos seleccionados"
   ]
  },
  {
   "cell_type": "code",
   "execution_count": 6,
   "id": "39b418f5-91fa-4cda-8261-03190357a540",
   "metadata": {},
   "outputs": [],
   "source": [
    "SmallData <- rename(SmallData, \"date\"=\"Date\")\n",
    "SmallData <- rename(SmallData, \"home.team\" = \"HomeTeam\") \n",
    "SmallData <- rename(SmallData, \"home.score\"=\"FTHG\") \n",
    "SmallData <- rename(SmallData, \"away.team\"=\"AwayTeam\") \n",
    "SmallData <- rename(SmallData, \"away.score\"=\"FTAG\")"
   ]
  },
  {
   "cell_type": "code",
   "execution_count": 7,
   "id": "134ae0fb-9604-4fbe-97b9-ab0605546d24",
   "metadata": {},
   "outputs": [
    {
     "data": {
      "text/html": [
       "<ol class=list-inline>\n",
       "\t<li>'date'</li>\n",
       "\t<li>'home.team'</li>\n",
       "\t<li>'home.score'</li>\n",
       "\t<li>'away.team'</li>\n",
       "\t<li>'away.score'</li>\n",
       "</ol>\n"
      ],
      "text/latex": [
       "\\begin{enumerate*}\n",
       "\\item 'date'\n",
       "\\item 'home.team'\n",
       "\\item 'home.score'\n",
       "\\item 'away.team'\n",
       "\\item 'away.score'\n",
       "\\end{enumerate*}\n"
      ],
      "text/markdown": [
       "1. 'date'\n",
       "2. 'home.team'\n",
       "3. 'home.score'\n",
       "4. 'away.team'\n",
       "5. 'away.score'\n",
       "\n",
       "\n"
      ],
      "text/plain": [
       "[1] \"date\"       \"home.team\"  \"home.score\" \"away.team\"  \"away.score\""
      ]
     },
     "metadata": {},
     "output_type": "display_data"
    }
   ],
   "source": [
    "names(SmallData)"
   ]
  },
  {
   "cell_type": "markdown",
   "id": "1ed4abac-098b-4c0a-b157-668b98e626e8",
   "metadata": {},
   "source": [
    "Se guarda un archivo .csv del dataframe \"SmallData\""
   ]
  },
  {
   "cell_type": "code",
   "execution_count": 8,
   "id": "ef374cf0-a761-44de-9b15-015fdddb5c3b",
   "metadata": {},
   "outputs": [],
   "source": [
    "write.csv(SmallData, \"soccer.csv\", row.names = FALSE)"
   ]
  },
  {
   "cell_type": "markdown",
   "id": "7a1fea21-3a06-4739-95d1-4c035654f52c",
   "metadata": {},
   "source": [
    "Con la función `create.fbRanks.dataframes()` del paquete fbRanks importe el archivo soccer.csv a R y al mismo tiempo asignelo a una variable llamada listasoccer. Se creará una lista con los elementos scores y teams que son dataframes listos para la función rank.teams. Asigna estos data frames a variables llamadas anotaciones y equipos."
   ]
  },
  {
   "cell_type": "markdown",
   "id": "c5d4389e-57d7-4bde-9682-d992d4d45a0a",
   "metadata": {},
   "source": [
    "Se crean los dataframes requeridos con la función `create.fbRanks.dataframes()`."
   ]
  },
  {
   "cell_type": "code",
   "execution_count": 11,
   "id": "10944805-a2f9-4458-91f9-bad0fc33296a",
   "metadata": {},
   "outputs": [
    {
     "name": "stdout",
     "output_type": "stream",
     "text": [
      "Alert: teams info file was not passed in.\n",
      "Will construct one from the scores data frame but teams in the scores file must use a unique name.\n",
      "Alert: teams resolver was not passed in.\n",
      "Will construct one from the team info data frame.\n"
     ]
    }
   ],
   "source": [
    "listasoccer <- create.fbRanks.dataframes(scores.file = \"soccer.csv\")"
   ]
  },
  {
   "cell_type": "markdown",
   "id": "57d2fa2d-3aae-4b1c-88d9-7ff492a16695",
   "metadata": {},
   "source": [
    "Se guarda el campo \"scores\" dentro de la variable anotaciones.\n",
    "La función `rank.teams()` clasifica a los equipos según tres parámetros, total, ataque y defensa."
   ]
  },
  {
   "cell_type": "code",
   "execution_count": 12,
   "id": "f77bada9-71ce-402b-b9e6-fde37f4aff88",
   "metadata": {},
   "outputs": [
    {
     "name": "stdout",
     "output_type": "stream",
     "text": [
      "Alert: teams data frame was not passed in. Will attempt to construct one from the scores data frame.You should ensure that teams use only one name in scores data frame.\n",
      "\n",
      "Team Rankings based on matches 1900-05-01 to 2100-06-01\n",
      "   team        total attack defense n.games.Var1 n.games.Freq\n",
      "1  Barcelona    1.54 2.25   1.29    Barcelona    114         \n",
      "2  Ath Madrid   1.24 1.33   1.78    Ath Madrid   114         \n",
      "3  Real Madrid  1.13 1.86   1.18    Real Madrid  114         \n",
      "4  Valencia     0.55 1.33   1.10    Valencia     114         \n",
      "5  Getafe       0.53 1.09   1.33    Getafe       114         \n",
      "6  Granada      0.48 1.33   1.05    Granada       38         \n",
      "7  Sevilla      0.44 1.36   1.00    Sevilla      114         \n",
      "8  Villarreal   0.36 1.40   0.91    Villarreal   114         \n",
      "9  Sociedad     0.33 1.39   0.90    Sociedad     114         \n",
      "10 Ath Bilbao   0.11 1.01   1.06    Ath Bilbao   114         \n",
      "11 Osasuna      0.06 1.19   0.88    Osasuna       38         \n",
      "12 Betis        0.03 1.27   0.80    Betis        114         \n",
      "13 Celta        0.02 1.25   0.81    Celta        114         \n",
      "14 Levante     -0.02 1.26   0.79    Levante      114         \n",
      "15 Eibar       -0.05 1.07   0.90    Eibar        114         \n",
      "16 Girona      -0.18 1.07   0.82    Girona        76         \n",
      "17 Espanol     -0.21 0.92   0.94    Espanol      114         \n",
      "18 Alaves      -0.26 0.94   0.89    Alaves       114         \n",
      "19 Valladolid  -0.28 0.81   1.02    Valladolid    76         \n",
      "20 Leganes     -0.29 0.84   0.98    Leganes      114         \n",
      "21 Huesca      -0.35 1.09   0.72    Huesca        38         \n",
      "22 Mallorca    -0.38 1.04   0.74    Mallorca      38         \n",
      "23 Vallecano   -0.51 1.04   0.67    Vallecano     38         \n",
      "24 La Coruna   -0.82 0.94   0.60    La Coruna     38         \n",
      "25 Malaga      -1.17 0.58   0.76    Malaga        38         \n",
      "26 Las Palmas  -1.43 0.59   0.63    Las Palmas    38         \n"
     ]
    }
   ],
   "source": [
    "anotaciones <- listasoccer[[\"scores\"]]\n",
    "anotaciones <- rank.teams(anotaciones)"
   ]
  },
  {
   "cell_type": "markdown",
   "id": "fe2c05f3-640a-46b8-9e28-01dcf9af3bb7",
   "metadata": {},
   "source": [
    "La función `rank.teams()` clasifica a los equipos según tres parámetros, total, ataque y defensa.\n",
    "\n",
    "Se guarda el campo \"teams\" dentro de la variable equipos."
   ]
  },
  {
   "cell_type": "code",
   "execution_count": 13,
   "id": "f3582165-3b64-4746-931b-4ff7208a58ee",
   "metadata": {},
   "outputs": [
    {
     "name": "stdout",
     "output_type": "stream",
     "text": [
      "\n",
      "Team Rankings based on matches 1900-05-01 to 2100-06-01\n",
      "   team        total attack defense n.games.Var1 n.games.Freq\n",
      "1  Barcelona    1.54 2.25   1.29    Barcelona    114         \n",
      "2  Ath Madrid   1.24 1.33   1.78    Ath Madrid   114         \n",
      "3  Real Madrid  1.13 1.86   1.18    Real Madrid  114         \n",
      "4  Valencia     0.55 1.33   1.10    Valencia     114         \n",
      "5  Getafe       0.53 1.09   1.33    Getafe       114         \n",
      "6  Granada      0.48 1.33   1.05    Granada       38         \n",
      "7  Sevilla      0.44 1.36   1.00    Sevilla      114         \n",
      "8  Villarreal   0.36 1.40   0.91    Villarreal   114         \n",
      "9  Sociedad     0.33 1.39   0.90    Sociedad     114         \n",
      "10 Ath Bilbao   0.11 1.01   1.06    Ath Bilbao   114         \n",
      "11 Osasuna      0.06 1.19   0.88    Osasuna       38         \n",
      "12 Betis        0.03 1.27   0.80    Betis        114         \n",
      "13 Celta        0.02 1.25   0.81    Celta        114         \n",
      "14 Levante     -0.02 1.26   0.79    Levante      114         \n",
      "15 Eibar       -0.05 1.07   0.90    Eibar        114         \n",
      "16 Girona      -0.18 1.07   0.82    Girona        76         \n",
      "17 Espanol     -0.21 0.92   0.94    Espanol      114         \n",
      "18 Alaves      -0.26 0.94   0.89    Alaves       114         \n",
      "19 Valladolid  -0.28 0.81   1.02    Valladolid    76         \n",
      "20 Leganes     -0.29 0.84   0.98    Leganes      114         \n",
      "21 Huesca      -0.35 1.09   0.72    Huesca        38         \n",
      "22 Mallorca    -0.38 1.04   0.74    Mallorca      38         \n",
      "23 Vallecano   -0.51 1.04   0.67    Vallecano     38         \n",
      "24 La Coruna   -0.82 0.94   0.60    La Coruna     38         \n",
      "25 Malaga      -1.17 0.58   0.76    Malaga        38         \n",
      "26 Las Palmas  -1.43 0.59   0.63    Las Palmas    38         \n"
     ]
    }
   ],
   "source": [
    "equipos <- listasoccer[[\"teams\"]]\n",
    "equipos <- rank.teams(scores = listasoccer[[\"scores\"]], \n",
    "                      teams = equipos)"
   ]
  },
  {
   "cell_type": "markdown",
   "id": "896ee87b-ddc7-4cd3-a19f-866d6103e4c7",
   "metadata": {},
   "source": [
    "Posteriormente la función unique nos permite obtener los datos no repetidos de un campo, en este caso \"date\"."
   ]
  },
  {
   "cell_type": "code",
   "execution_count": 15,
   "id": "3a98c442-fadb-4d40-a77f-1e2bfb2e04df",
   "metadata": {},
   "outputs": [],
   "source": [
    "fecha <- unique(as.Date(listasoccer[[\"scores\"]]$date))"
   ]
  },
  {
   "cell_type": "markdown",
   "id": "4ddf8974-9c56-40b6-b11a-90ea7957b309",
   "metadata": {},
   "source": [
    "Se obtiene el número de datos en \"fecha\"."
   ]
  },
  {
   "cell_type": "code",
   "execution_count": 17,
   "id": "fbea3870-1501-4f12-b806-f40425df6a3e",
   "metadata": {},
   "outputs": [
    {
     "data": {
      "text/html": [
       "331"
      ],
      "text/latex": [
       "331"
      ],
      "text/markdown": [
       "331"
      ],
      "text/plain": [
       "[1] 331"
      ]
     },
     "metadata": {},
     "output_type": "display_data"
    }
   ],
   "source": [
    "(n <- length(fecha))"
   ]
  },
  {
   "cell_type": "markdown",
   "id": "86706d8b-46df-4980-b044-4b9afc5ffa74",
   "metadata": {},
   "source": [
    "Se obtiene el ranking de las fechas del dataframe que inicialmente se tenía menos la última, es decir: 2017-08-18 al 2020-12-22."
   ]
  },
  {
   "cell_type": "code",
   "execution_count": 18,
   "id": "115433bc-2c78-47cd-9776-13b1b58f033a",
   "metadata": {},
   "outputs": [
    {
     "name": "stdout",
     "output_type": "stream",
     "text": [
      "\n",
      "Team Rankings based on matches 2017-08-18 to 2020-12-22\n",
      "   team        total attack defense n.games.Var1 n.games.Freq\n",
      "1  Barcelona    1.53 2.24   1.29    Barcelona    114         \n",
      "2  Ath Madrid   1.23 1.32   1.77    Ath Madrid   114         \n",
      "3  Real Madrid  1.13 1.86   1.17    Real Madrid  114         \n",
      "4  Valencia     0.54 1.33   1.10    Valencia     113         \n",
      "5  Getafe       0.53 1.08   1.33    Getafe       114         \n",
      "6  Granada      0.47 1.33   1.05    Granada       38         \n",
      "7  Sevilla      0.44 1.36   0.99    Sevilla      113         \n",
      "8  Villarreal   0.35 1.40   0.91    Villarreal   114         \n",
      "9  Sociedad     0.32 1.38   0.90    Sociedad     114         \n",
      "10 Ath Bilbao   0.10 1.01   1.06    Ath Bilbao   114         \n",
      "11 Osasuna      0.06 1.19   0.88    Osasuna       38         \n",
      "12 Betis        0.02 1.27   0.80    Betis        114         \n",
      "13 Celta        0.01 1.24   0.81    Celta        114         \n",
      "14 Levante     -0.01 1.26   0.79    Levante      113         \n",
      "15 Eibar       -0.06 1.07   0.90    Eibar        114         \n",
      "16 Girona      -0.18 1.07   0.82    Girona        76         \n",
      "17 Espanol     -0.22 0.92   0.94    Espanol      114         \n",
      "18 Alaves      -0.27 0.94   0.88    Alaves       114         \n",
      "19 Valladolid  -0.29 0.80   1.02    Valladolid    76         \n",
      "20 Leganes     -0.31 0.83   0.97    Leganes      113         \n",
      "21 Huesca      -0.35 1.08   0.72    Huesca        37         \n",
      "22 Mallorca    -0.39 1.04   0.73    Mallorca      38         \n",
      "23 Vallecano   -0.56 1.02   0.66    Vallecano     37         \n",
      "24 La Coruna   -0.83 0.94   0.60    La Coruna     38         \n",
      "25 Malaga      -1.18 0.58   0.76    Malaga        38         \n",
      "26 Las Palmas  -1.44 0.59   0.62    Las Palmas    38         \n"
     ]
    }
   ],
   "source": [
    "ranking <- rank.teams(scores = listasoccer[[\"scores\"]], \n",
    "                      teams = listasoccer[[\"teams\"]],\n",
    "                      min.date = fecha[1],\n",
    "                      max.date = fecha[n - 1])"
   ]
  },
  {
   "cell_type": "markdown",
   "id": "32b6d590-0b43-4f5d-ba63-f69db93818d4",
   "metadata": {},
   "source": [
    "Finalmente estima las probabilidades de los eventos, el equipo de casa gana, el equipo visitante gana o el resultado es un empate para los partidos que se jugaron en la última fecha del vector de fechas fecha. Esto lo puedes hacer con ayuda de la función predict y usando como argumentos ranking y fecha\\[n\\] que deberá especificar en date.\n",
    "\n",
    "Se pone a prueba el modelo basado en los datos de \"ranking\" con la última fecha del dataset, es decir, la fecha número n. Esto"
   ]
  },
  {
   "cell_type": "code",
   "execution_count": 19,
   "id": "6b586386-e5b9-4e90-8cbe-c702a6a6162e",
   "metadata": {},
   "outputs": [
    {
     "name": "stdout",
     "output_type": "stream",
     "text": [
      "Predicted Match Results for 1900-05-01 to 2100-06-01\n",
      "Model based on data from 2017-08-18 to 2020-12-22\n",
      "---------------------------------------------\n",
      "2020-12-23 Leganes vs Sevilla, HW 22%, AW 50%, T 27%, pred score 0.8-1.4  actual: T (1-1)\n",
      "2020-12-23 Valencia vs Huesca, HW 57%, AW 20%, T 23%, pred score 1.8-1  actual: HW (2-1)\n",
      "2020-12-23 Vallecano vs Levante, HW 26%, AW 52%, T 22%, pred score 1.3-1.9  actual: HW (2-1)\n"
     ]
    }
   ],
   "source": [
    "predict(object = ranking, date = fecha[n])"
   ]
  },
  {
   "cell_type": "markdown",
   "id": "44046bbd-b67c-4ebe-bc39-5250040efffe",
   "metadata": {},
   "source": [
    "#### Conclusiones\n",
    "\n",
    "Como se puede observar, para los partidos Leganes vs Sevilla y Valencia vs Huesca las predicciones fueron acertadas (0.8-1.4 y 1.8-1 respectivamente) pues coinciden con el resultado del partido (1-1 y 2-1 respectivamente). Sin embargo, en la predicción del partido Vallecano vs Levante este falló pues en realidad el marcador quedó 2-1 a favor del Vallecano y el porcentaje de gol predicho fué de 1.3-1.9 favor Levante.\n",
    "\n",
    "Observación: los antes mencionados \"porcentajes de gol\" en realidad representan la fracción de goles predicha por el modelo, sin embargo en la realidad no tiene sentido hablar de fracciones de gol. Entonces, si el modelo predice un 0.8 quiere decir 1 en la realidad."
   ]
  },
  {
   "cell_type": "code",
   "execution_count": null,
   "id": "f358d891-7f81-4961-9921-a41a6568af94",
   "metadata": {},
   "outputs": [],
   "source": []
  }
 ],
 "metadata": {
  "kernelspec": {
   "display_name": "R",
   "language": "R",
   "name": "ir"
  },
  "language_info": {
   "codemirror_mode": "r",
   "file_extension": ".r",
   "mimetype": "text/x-r-source",
   "name": "R",
   "pygments_lexer": "r",
   "version": "3.6.1"
  }
 },
 "nbformat": 4,
 "nbformat_minor": 5
}
