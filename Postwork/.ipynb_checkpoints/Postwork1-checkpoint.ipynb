{
 "cells": [
  {
   "cell_type": "markdown",
   "id": "aec22ef3",
   "metadata": {},
   "source": [
    "# Postwork Sesión 1.\n",
    "\n",
    "#### Objetivo\n",
    "\n",
    "El Postwork tiene como objetivo que practiques los comandos básicos aprendidos durante la sesión, de tal modo que sirvan para reafirmar el conocimiento. Recuerda que la programación es como un deporte en el que se debe practicar, habrá caídas, pero lo importante es levantarse y seguir adelante. Éxito\n",
    "\n",
    "#### Requisitos\n",
    "- Concluir los retos\n",
    "- Haber estudiado los ejemplos durante la sesión\n",
    "\n",
    "#### Desarrollo\n",
    "\n",
    "El siguiente postwork, te servirá para ir desarrollando habilidades como si se tratara de un proyecto que evidencie el progreso del aprendizaje durante el módulo, sesión a sesión se irá desarrollando. A continuación aparecen una serie de objetivos que deberás cumplir, es un ejemplo real de aplicación y tiene que ver con datos referentes a equipos de la liga española de fútbol (recuerda que los datos provienen siempre de diversas naturalezas), en este caso se cuenta con muchos datos que se pueden aprovechar, explotarlos y generar análisis interesantes que se pueden aplicar a otras áreas. Siendo así damos paso a las instrucciones: \n",
    "\n",
    "1. Importa los datos de soccer de la temporada 2019/2020 de la primera división de la liga española a `R`, los datos los puedes encontrar en el siguiente enlace: https://www.football-data.co.uk/spainm.php\n",
    "\n",
    "2. Del data frame que resulta de importar los datos a `R`, extrae las columnas que contienen los números de goles anotados por los equipos que jugaron en casa (FTHG) y los goles anotados por los equipos que jugaron como visitante (FTAG)\n",
    "\n",
    "3. Consulta cómo funciona la función `table` en `R` al ejecutar en la consola `?table`\n",
    " \n",
    "Posteriormente elabora tablas de frecuencias relativas para estimar las siguientes probabilidades:\n",
    "\n",
    "- La probabilidad (marginal) de que el equipo que juega en casa anote x goles (x = 0, 1, 2, ...)\n",
    "- La probabilidad (marginal) de que el equipo que juega como visitante anote y goles (y = 0, 1, 2, ...)\n",
    "- La probabilidad (conjunta) de que el equipo que juega en casa anote x goles y el equipo que juega como visitante anote y goles (x = 0, 1, 2, ..., y = 0, 1, 2, ...)\n",
    "\n",
    "__Notas para los datos de soccer:__ https://www.football-data.co.uk/notes.txt\n"
   ]
  },
  {
   "cell_type": "markdown",
   "id": "02a89518",
   "metadata": {},
   "source": [
    "##### Librerías utilizadas"
   ]
  },
  {
   "cell_type": "code",
   "execution_count": 1,
   "id": "4d5777e2",
   "metadata": {},
   "outputs": [
    {
     "name": "stderr",
     "output_type": "stream",
     "text": [
      "\n",
      "Attaching package: 'dplyr'\n",
      "\n",
      "The following objects are masked from 'package:stats':\n",
      "\n",
      "    filter, lag\n",
      "\n",
      "The following objects are masked from 'package:base':\n",
      "\n",
      "    intersect, setdiff, setequal, union\n",
      "\n"
     ]
    }
   ],
   "source": [
    "library(dplyr)"
   ]
  },
  {
   "cell_type": "markdown",
   "id": "a1f95c6f",
   "metadata": {},
   "source": [
    "#### Procedimiento\n",
    "\n",
    "Se obtienen los datos de la liga: https://www.football-data.co.uk/notes.txt con la función `read.csv()`. Y se revisa la estructura del dataset con la funcion `str()` y los primeros 6 registros del mismo con`head()`."
   ]
  },
  {
   "cell_type": "code",
   "execution_count": 2,
   "id": "6684a52c",
   "metadata": {},
   "outputs": [
    {
     "name": "stdout",
     "output_type": "stream",
     "text": [
      "'data.frame':\t380 obs. of  105 variables:\n",
      " $ Div        : Factor w/ 1 level \"SP1\": 1 1 1 1 1 1 1 1 1 1 ...\n",
      " $ Date       : Factor w/ 116 levels \"01/02/2020\",\"01/03/2020\",..: 56 59 59 59 59 59 62 62 62 62 ...\n",
      " $ Time       : Factor w/ 13 levels \"11:00\",\"12:00\",..: 11 5 7 9 11 11 5 7 11 13 ...\n",
      " $ HomeTeam   : Factor w/ 20 levels \"Alaves\",\"Ath Bilbao\",..: 2 6 18 13 11 20 1 8 5 3 ...\n",
      " $ AwayTeam   : Factor w/ 20 levels \"Alaves\",\"Ath Bilbao\",..: 4 15 17 7 14 10 12 16 19 9 ...\n",
      " $ FTHG       : int  1 1 1 2 0 4 1 0 1 1 ...\n",
      " $ FTAG       : int  0 3 1 1 1 4 0 2 2 0 ...\n",
      " $ FTR        : Factor w/ 3 levels \"A\",\"D\",\"H\": 3 1 2 3 1 2 3 1 1 3 ...\n",
      " $ HTHG       : int  0 0 0 1 0 1 0 0 0 1 ...\n",
      " $ HTAG       : int  0 1 0 0 0 1 0 1 0 0 ...\n",
      " $ HTR        : Factor w/ 3 levels \"A\",\"D\",\"H\": 2 1 2 3 2 2 2 1 2 3 ...\n",
      " $ HS         : int  11 7 14 16 13 12 9 7 13 5 ...\n",
      " $ AS         : int  11 17 12 11 4 14 16 12 14 6 ...\n",
      " $ HST        : int  5 4 6 4 2 7 2 2 4 5 ...\n",
      " $ AST        : int  2 11 3 5 2 7 4 4 3 0 ...\n",
      " $ HF         : int  14 17 13 13 17 10 18 11 11 19 ...\n",
      " $ AF         : int  9 12 14 14 11 16 15 17 19 22 ...\n",
      " $ HC         : int  3 6 3 9 8 2 2 8 6 3 ...\n",
      " $ AC         : int  8 4 3 3 0 7 9 4 1 4 ...\n",
      " $ HY         : int  1 5 4 2 1 3 2 2 2 3 ...\n",
      " $ AY         : int  1 2 4 3 4 1 1 2 6 4 ...\n",
      " $ HR         : int  0 0 1 0 1 0 0 0 1 1 ...\n",
      " $ AR         : int  0 1 0 0 0 0 0 0 0 1 ...\n",
      " $ B365H      : num  5.25 4.75 1.66 2.8 2 1.6 2.15 3.2 1.66 1.44 ...\n",
      " $ B365D      : num  3.8 4.2 3.75 3.2 3.2 3.8 3.2 3.3 3.75 4.33 ...\n",
      " $ B365A      : num  1.65 1.65 5.5 2.6 4.2 6.5 3.6 2.3 5.5 8 ...\n",
      " $ BWH        : num  5.5 4.4 1.67 2.95 2.05 1.6 2.15 3.1 1.65 1.45 ...\n",
      " $ BWD        : num  3.8 4.2 3.75 3.1 3.25 3.8 3.3 3.4 3.75 4.33 ...\n",
      " $ BWA        : num  1.65 1.72 5.5 2.6 3.9 6.25 3.6 2.3 5.75 7.5 ...\n",
      " $ IWH        : num  5 5.3 1.67 2.9 2.05 1.63 2.2 3.1 1.63 1.45 ...\n",
      " $ IWD        : num  3.8 4.2 3.75 3.1 3.1 4 3.25 3.4 3.75 4.4 ...\n",
      " $ IWA        : num  1.7 1.6 5.3 2.6 4.05 5.5 3.4 2.3 5.7 7.2 ...\n",
      " $ PSH        : num  5.15 4.73 1.68 2.98 2.1 1.62 2.29 3.13 1.63 1.49 ...\n",
      " $ PSD        : num  3.84 4.18 3.94 3.14 3.21 3.99 3.31 3.56 3.81 4.34 ...\n",
      " $ PSA        : num  1.74 1.72 5.47 2.66 4.13 6.13 3.45 2.33 6.38 7.58 ...\n",
      " $ WHH        : num  5 5.25 1.67 2.9 2.05 1.6 2.25 3 1.62 1.47 ...\n",
      " $ WHD        : num  3.8 4.2 3.8 3.1 3.2 3.9 3.3 3.5 3.75 4.2 ...\n",
      " $ WHA        : num  1.7 1.6 5.25 2.62 4 5.8 3.3 2.3 6 8 ...\n",
      " $ VCH        : num  5 4.75 1.67 2.9 2.1 1.65 2.25 3 1.62 1.45 ...\n",
      " $ VCD        : num  3.8 4.2 3.9 3.13 3.2 4 3.3 3.5 3.8 4.2 ...\n",
      " $ VCA        : num  1.75 1.73 5.75 2.7 4.1 5.75 3.3 2.3 5.75 8 ...\n",
      " $ MaxH       : num  5.5 5.3 1.72 3.05 2.1 1.65 2.31 3.2 1.67 1.52 ...\n",
      " $ MaxD       : num  3.95 4.4 3.98 3.2 3.3 4.15 3.4 3.56 3.9 4.5 ...\n",
      " $ MaxA       : num  1.76 1.73 5.75 2.7 4.25 6.5 3.6 2.4 6.5 8.5 ...\n",
      " $ AvgH       : num  5.07 4.67 1.68 2.91 2.06 1.61 2.23 3.08 1.64 1.47 ...\n",
      " $ AvgD       : num  3.81 4.12 3.8 3.09 3.18 3.95 3.25 3.41 3.76 4.23 ...\n",
      " $ AvgA       : num  1.71 1.69 5.29 2.62 4.02 5.8 3.43 2.33 5.78 7.63 ...\n",
      " $ B365.2.5   : num  1.8 1.53 2 2.3 2.5 1.8 2.1 1.9 2.1 2.2 ...\n",
      " $ B365.2.5.1 : num  2 2.5 1.8 1.61 1.53 2 1.72 1.9 1.72 1.66 ...\n",
      " $ P.2.5      : num  1.81 1.52 2.08 2.45 2.72 1.88 2.16 1.95 2.16 2.3 ...\n",
      " $ P.2.5.1    : num  2.09 2.66 1.82 1.6 1.5 2.02 1.76 1.95 1.76 1.68 ...\n",
      " $ Max.2.5    : num  1.85 1.53 2.14 2.47 2.75 1.9 2.2 1.98 2.21 2.3 ...\n",
      " $ Max.2.5.1  : num  2.11 2.72 1.83 1.65 1.54 2.05 1.77 1.95 1.78 1.71 ...\n",
      " $ Avg.2.5    : num  1.79 1.49 2.07 2.34 2.59 1.84 2.13 1.92 2.13 2.23 ...\n",
      " $ Avg.2.5.1  : num  2.05 2.58 1.77 1.6 1.49 1.98 1.72 1.89 1.72 1.66 ...\n",
      " $ AHh        : num  0.75 0.75 -0.75 0 -0.5 -1 -0.25 0.25 -0.75 -1 ...\n",
      " $ B365AHH    : num  1.99 2.04 1.91 2.05 2.08 2.05 1.95 1.88 1.86 1.88 ...\n",
      " $ B365AHA    : num  1.94 1.89 2.02 1.88 1.85 1.75 1.98 2.05 2.07 2.05 ...\n",
      " $ PAHH       : num  1.98 2.01 1.91 2.07 2.1 2.11 1.96 1.9 1.84 1.88 ...\n",
      " $ PAHA       : num  1.94 1.91 2.01 1.85 1.82 1.81 1.96 2.02 2.08 2.04 ...\n",
      " $ MaxAHH     : num  2 2.05 1.93 2.07 2.1 2.14 1.97 1.9 1.87 1.89 ...\n",
      " $ MaxAHA     : num  1.95 1.91 2.03 1.88 1.85 1.85 1.99 2.06 2.08 2.08 ...\n",
      " $ AvgAHH     : num  1.96 2 1.89 2.04 2.06 2.07 1.93 1.87 1.83 1.85 ...\n",
      " $ AvgAHA     : num  1.92 1.88 1.99 1.85 1.83 1.8 1.95 2.01 2.06 2.03 ...\n",
      " $ B365CH     : num  5.25 5.25 1.66 2.87 1.9 1.53 2.3 3 1.8 1.5 ...\n",
      " $ B365CD     : num  3.8 4.2 3.75 3.2 3.1 4 3.4 3.4 3.6 4 ...\n",
      " $ B365CA     : num  1.65 1.57 5.5 2.55 5 6.5 3.2 2.4 4.75 8 ...\n",
      " $ BWCH       : num  4.75 4.5 1.65 2.95 1.95 1.57 2.35 3 1.8 1.5 ...\n",
      " $ BWCD       : num  3.75 4.1 3.8 3.1 3.2 3.8 3.2 3.4 3.4 3.9 ...\n",
      " $ BWCA       : num  1.75 1.7 5.5 2.6 4.5 6.5 3.2 2.35 5 7.75 ...\n",
      " $ IWCH       : num  5 4.6 1.67 2.9 1.9 1.55 2.35 3 1.85 1.5 ...\n",
      " $ IWCD       : num  3.8 3.8 3.8 3.1 3.15 4.05 3.25 3.35 3.55 3.9 ...\n",
      " $ IWCA       : num  1.7 1.75 5.3 2.6 4.85 6.3 3.15 2.35 4.4 7.6 ...\n",
      " $ PSCH       : num  5.34 5.1 1.69 2.96 1.9 1.54 2.43 3.13 1.82 1.57 ...\n",
      " $ PSCD       : num  3.62 4.46 3.88 3.26 3.18 4.19 3.27 3.38 3.53 3.78 ...\n",
      " $ PSCA       : num  1.78 1.65 5.47 2.6 5.3 6.87 3.2 2.41 5.07 7.66 ...\n",
      " $ WHCH       : num  5 5 1.65 2.9 2.05 1.62 2.25 3 1.78 1.5 ...\n",
      " $ WHCD       : num  3.8 4.2 3.9 3.1 3.2 3.9 3.3 3.4 3.5 3.8 ...\n",
      " $ WHCA       : num  1.7 1.63 5.25 2.6 4 5.8 3.3 2.35 5 8 ...\n",
      " $ VCCH       : num  4.8 5.2 1.7 3 1.9 1.57 2.45 3.13 1.87 1.55 ...\n",
      " $ VCCD       : num  3.8 4.4 3.9 3.13 3.2 4 3.3 3.4 3.5 3.9 ...\n",
      " $ VCCA       : num  1.8 1.65 5.5 2.63 5.2 7 3.13 2.4 4.6 8 ...\n",
      " $ MaxCH      : num  5.8 6 1.72 3.05 1.95 1.58 2.46 3.38 1.87 1.58 ...\n",
      " $ MaxCD      : num  3.9 4.52 3.95 3.29 3.26 4.2 3.42 3.47 3.65 4.05 ...\n",
      " $ MaxCA      : num  1.81 1.75 6.2 2.72 5.3 7.3 3.58 2.48 5.35 8.9 ...\n",
      " $ AvgCH      : num  5.03 4.93 1.68 2.93 1.9 1.54 2.37 3.05 1.83 1.53 ...\n",
      " $ AvgCD      : num  3.66 4.26 3.82 3.14 3.16 4.05 3.25 3.34 3.5 3.84 ...\n",
      " $ AvgCA      : num  1.76 1.65 5.37 2.59 4.91 6.66 3.18 2.39 4.74 7.68 ...\n",
      " $ B365C.2.5  : num  1.9 1.44 2 2.2 2.75 1.9 2.1 2 2 2.37 ...\n",
      " $ B365C.2.5.1: num  1.9 2.75 1.8 1.66 1.44 1.9 1.72 1.8 1.8 1.57 ...\n",
      " $ PC.2.5     : num  1.98 1.49 2.06 2.2 2.84 1.95 2.18 2.04 2.03 2.43 ...\n",
      " $ PC.2.5.1   : num  1.93 2.76 1.85 1.74 1.47 1.95 1.75 1.85 1.87 1.61 ...\n",
      " $ MaxC.2.5   : num  1.99 1.51 2.08 2.38 2.85 1.98 2.18 2.09 2.07 2.46 ...\n",
      " $ MaxC.2.5.1 : num  2.11 2.88 1.98 1.74 1.5 2.1 1.83 2.05 1.92 1.65 ...\n",
      " $ AvgC.2.5   : num  1.86 1.47 2 2.24 2.69 1.9 2.1 1.97 1.99 2.36 ...\n",
      " $ AvgC.2.5.1 : num  1.97 2.63 1.82 1.66 1.46 1.92 1.74 1.85 1.83 1.59 ...\n",
      " $ AHCh       : num  0.75 1 -0.75 0 -0.5 -1 -0.25 0.25 -0.75 -1 ...\n",
      " $ B365CAHH   : num  1.93 1.82 1.94 2.11 1.89 1.96 2.08 1.86 2.02 2.06 ...\n",
      " $ B365CAHA   : num  2 1.97 1.99 1.82 2.04 1.97 1.85 2.07 1.77 1.87 ...\n",
      "  [list output truncated]\n"
     ]
    },
    {
     "data": {
      "text/html": [
       "<table>\n",
       "<thead><tr><th scope=col>Div</th><th scope=col>Date</th><th scope=col>Time</th><th scope=col>HomeTeam</th><th scope=col>AwayTeam</th><th scope=col>FTHG</th><th scope=col>FTAG</th><th scope=col>FTR</th><th scope=col>HTHG</th><th scope=col>HTAG</th><th scope=col>...</th><th scope=col>AvgC.2.5.1</th><th scope=col>AHCh</th><th scope=col>B365CAHH</th><th scope=col>B365CAHA</th><th scope=col>PCAHH</th><th scope=col>PCAHA</th><th scope=col>MaxCAHH</th><th scope=col>MaxCAHA</th><th scope=col>AvgCAHH</th><th scope=col>AvgCAHA</th></tr></thead>\n",
       "<tbody>\n",
       "\t<tr><td>SP1        </td><td>16/08/2019 </td><td>20:00      </td><td>Ath Bilbao </td><td>Barcelona  </td><td>1          </td><td>0          </td><td>H          </td><td>0          </td><td>0          </td><td>...        </td><td>1.97       </td><td> 0.75      </td><td>1.93       </td><td>2.00       </td><td>1.91       </td><td>2.01       </td><td>2.02       </td><td>2.03       </td><td>1.91       </td><td>1.98       </td></tr>\n",
       "\t<tr><td>SP1        </td><td>17/08/2019 </td><td>16:00      </td><td>Celta      </td><td>Real Madrid</td><td>1          </td><td>3          </td><td>A          </td><td>0          </td><td>1          </td><td>...        </td><td>2.63       </td><td> 1.00      </td><td>1.82       </td><td>1.97       </td><td>1.85       </td><td>2.07       </td><td>2.00       </td><td>2.20       </td><td>1.82       </td><td>2.06       </td></tr>\n",
       "\t<tr><td>SP1        </td><td>17/08/2019 </td><td>18:00      </td><td>Valencia   </td><td>Sociedad   </td><td>1          </td><td>1          </td><td>D          </td><td>0          </td><td>0          </td><td>...        </td><td>1.82       </td><td>-0.75      </td><td>1.94       </td><td>1.99       </td><td>1.92       </td><td>2.00       </td><td>1.96       </td><td>2.12       </td><td>1.89       </td><td>2.00       </td></tr>\n",
       "\t<tr><td>SP1        </td><td>17/08/2019 </td><td>19:00      </td><td>Mallorca   </td><td>Eibar      </td><td>2          </td><td>1          </td><td>H          </td><td>1          </td><td>0          </td><td>...        </td><td>1.66       </td><td> 0.00      </td><td>2.11       </td><td>1.82       </td><td>2.09       </td><td>1.83       </td><td>2.12       </td><td>1.88       </td><td>2.07       </td><td>1.83       </td></tr>\n",
       "\t<tr><td>SP1        </td><td>17/08/2019 </td><td>20:00      </td><td>Leganes    </td><td>Osasuna    </td><td>0          </td><td>1          </td><td>A          </td><td>0          </td><td>0          </td><td>...        </td><td>1.46       </td><td>-0.50      </td><td>1.89       </td><td>2.04       </td><td>1.90       </td><td>2.01       </td><td>1.95       </td><td>2.06       </td><td>1.90       </td><td>1.99       </td></tr>\n",
       "\t<tr><td>SP1        </td><td>17/08/2019 </td><td>20:00      </td><td>Villarreal </td><td>Granada    </td><td>4          </td><td>4          </td><td>D          </td><td>1          </td><td>1          </td><td>...        </td><td>1.92       </td><td>-1.00      </td><td>1.96       </td><td>1.97       </td><td>1.96       </td><td>1.96       </td><td>1.98       </td><td>2.12       </td><td>1.93       </td><td>1.95       </td></tr>\n",
       "</tbody>\n",
       "</table>\n"
      ],
      "text/latex": [
       "\\begin{tabular}{r|lllllllllllllllllllllllllllllllllllllllllllllllllllllllllllllllllllllllllllllllllllllllllllllllllllllllll}\n",
       " Div & Date & Time & HomeTeam & AwayTeam & FTHG & FTAG & FTR & HTHG & HTAG & ... & AvgC.2.5.1 & AHCh & B365CAHH & B365CAHA & PCAHH & PCAHA & MaxCAHH & MaxCAHA & AvgCAHH & AvgCAHA\\\\\n",
       "\\hline\n",
       "\t SP1         & 16/08/2019  & 20:00       & Ath Bilbao  & Barcelona   & 1           & 0           & H           & 0           & 0           & ...         & 1.97        &  0.75       & 1.93        & 2.00        & 1.91        & 2.01        & 2.02        & 2.03        & 1.91        & 1.98       \\\\\n",
       "\t SP1         & 17/08/2019  & 16:00       & Celta       & Real Madrid & 1           & 3           & A           & 0           & 1           & ...         & 2.63        &  1.00       & 1.82        & 1.97        & 1.85        & 2.07        & 2.00        & 2.20        & 1.82        & 2.06       \\\\\n",
       "\t SP1         & 17/08/2019  & 18:00       & Valencia    & Sociedad    & 1           & 1           & D           & 0           & 0           & ...         & 1.82        & -0.75       & 1.94        & 1.99        & 1.92        & 2.00        & 1.96        & 2.12        & 1.89        & 2.00       \\\\\n",
       "\t SP1         & 17/08/2019  & 19:00       & Mallorca    & Eibar       & 2           & 1           & H           & 1           & 0           & ...         & 1.66        &  0.00       & 2.11        & 1.82        & 2.09        & 1.83        & 2.12        & 1.88        & 2.07        & 1.83       \\\\\n",
       "\t SP1         & 17/08/2019  & 20:00       & Leganes     & Osasuna     & 0           & 1           & A           & 0           & 0           & ...         & 1.46        & -0.50       & 1.89        & 2.04        & 1.90        & 2.01        & 1.95        & 2.06        & 1.90        & 1.99       \\\\\n",
       "\t SP1         & 17/08/2019  & 20:00       & Villarreal  & Granada     & 4           & 4           & D           & 1           & 1           & ...         & 1.92        & -1.00       & 1.96        & 1.97        & 1.96        & 1.96        & 1.98        & 2.12        & 1.93        & 1.95       \\\\\n",
       "\\end{tabular}\n"
      ],
      "text/markdown": [
       "\n",
       "| Div | Date | Time | HomeTeam | AwayTeam | FTHG | FTAG | FTR | HTHG | HTAG | ... | AvgC.2.5.1 | AHCh | B365CAHH | B365CAHA | PCAHH | PCAHA | MaxCAHH | MaxCAHA | AvgCAHH | AvgCAHA |\n",
       "|---|---|---|---|---|---|---|---|---|---|---|---|---|---|---|---|---|---|---|---|---|\n",
       "| SP1         | 16/08/2019  | 20:00       | Ath Bilbao  | Barcelona   | 1           | 0           | H           | 0           | 0           | ...         | 1.97        |  0.75       | 1.93        | 2.00        | 1.91        | 2.01        | 2.02        | 2.03        | 1.91        | 1.98        |\n",
       "| SP1         | 17/08/2019  | 16:00       | Celta       | Real Madrid | 1           | 3           | A           | 0           | 1           | ...         | 2.63        |  1.00       | 1.82        | 1.97        | 1.85        | 2.07        | 2.00        | 2.20        | 1.82        | 2.06        |\n",
       "| SP1         | 17/08/2019  | 18:00       | Valencia    | Sociedad    | 1           | 1           | D           | 0           | 0           | ...         | 1.82        | -0.75       | 1.94        | 1.99        | 1.92        | 2.00        | 1.96        | 2.12        | 1.89        | 2.00        |\n",
       "| SP1         | 17/08/2019  | 19:00       | Mallorca    | Eibar       | 2           | 1           | H           | 1           | 0           | ...         | 1.66        |  0.00       | 2.11        | 1.82        | 2.09        | 1.83        | 2.12        | 1.88        | 2.07        | 1.83        |\n",
       "| SP1         | 17/08/2019  | 20:00       | Leganes     | Osasuna     | 0           | 1           | A           | 0           | 0           | ...         | 1.46        | -0.50       | 1.89        | 2.04        | 1.90        | 2.01        | 1.95        | 2.06        | 1.90        | 1.99        |\n",
       "| SP1         | 17/08/2019  | 20:00       | Villarreal  | Granada     | 4           | 4           | D           | 1           | 1           | ...         | 1.92        | -1.00       | 1.96        | 1.97        | 1.96        | 1.96        | 1.98        | 2.12        | 1.93        | 1.95        |\n",
       "\n"
      ],
      "text/plain": [
       "  Div Date       Time  HomeTeam   AwayTeam    FTHG FTAG FTR HTHG HTAG ...\n",
       "1 SP1 16/08/2019 20:00 Ath Bilbao Barcelona   1    0    H   0    0    ...\n",
       "2 SP1 17/08/2019 16:00 Celta      Real Madrid 1    3    A   0    1    ...\n",
       "3 SP1 17/08/2019 18:00 Valencia   Sociedad    1    1    D   0    0    ...\n",
       "4 SP1 17/08/2019 19:00 Mallorca   Eibar       2    1    H   1    0    ...\n",
       "5 SP1 17/08/2019 20:00 Leganes    Osasuna     0    1    A   0    0    ...\n",
       "6 SP1 17/08/2019 20:00 Villarreal Granada     4    4    D   1    1    ...\n",
       "  AvgC.2.5.1 AHCh  B365CAHH B365CAHA PCAHH PCAHA MaxCAHH MaxCAHA AvgCAHH\n",
       "1 1.97        0.75 1.93     2.00     1.91  2.01  2.02    2.03    1.91   \n",
       "2 2.63        1.00 1.82     1.97     1.85  2.07  2.00    2.20    1.82   \n",
       "3 1.82       -0.75 1.94     1.99     1.92  2.00  1.96    2.12    1.89   \n",
       "4 1.66        0.00 2.11     1.82     2.09  1.83  2.12    1.88    2.07   \n",
       "5 1.46       -0.50 1.89     2.04     1.90  2.01  1.95    2.06    1.90   \n",
       "6 1.92       -1.00 1.96     1.97     1.96  1.96  1.98    2.12    1.93   \n",
       "  AvgCAHA\n",
       "1 1.98   \n",
       "2 2.06   \n",
       "3 2.00   \n",
       "4 1.83   \n",
       "5 1.99   \n",
       "6 1.95   "
      ]
     },
     "metadata": {},
     "output_type": "display_data"
    }
   ],
   "source": [
    "partidos_liga_española_df <- read.csv(\"https://www.football-data.co.uk/mmz4281/1920/SP1.csv\")\n",
    "str(partidos_liga_española_df)\n",
    "head(partidos_liga_española_df)"
   ]
  },
  {
   "cell_type": "markdown",
   "id": "e88951ee",
   "metadata": {},
   "source": [
    "Se extraen los campos FTHG y FTAG que contienen los goles anotados por el equipo de casa y foráneo respectivamente."
   ]
  },
  {
   "cell_type": "code",
   "execution_count": 3,
   "id": "2f848ee0",
   "metadata": {},
   "outputs": [
    {
     "data": {
      "text/html": [
       "<table>\n",
       "<thead><tr><th scope=col>casa</th><th scope=col>visitante</th></tr></thead>\n",
       "<tbody>\n",
       "\t<tr><td>1</td><td>0</td></tr>\n",
       "\t<tr><td>1</td><td>3</td></tr>\n",
       "\t<tr><td>1</td><td>1</td></tr>\n",
       "\t<tr><td>2</td><td>1</td></tr>\n",
       "\t<tr><td>0</td><td>1</td></tr>\n",
       "\t<tr><td>4</td><td>4</td></tr>\n",
       "</tbody>\n",
       "</table>\n"
      ],
      "text/latex": [
       "\\begin{tabular}{r|ll}\n",
       " casa & visitante\\\\\n",
       "\\hline\n",
       "\t 1 & 0\\\\\n",
       "\t 1 & 3\\\\\n",
       "\t 1 & 1\\\\\n",
       "\t 2 & 1\\\\\n",
       "\t 0 & 1\\\\\n",
       "\t 4 & 4\\\\\n",
       "\\end{tabular}\n"
      ],
      "text/markdown": [
       "\n",
       "| casa | visitante |\n",
       "|---|---|\n",
       "| 1 | 0 |\n",
       "| 1 | 3 |\n",
       "| 1 | 1 |\n",
       "| 2 | 1 |\n",
       "| 0 | 1 |\n",
       "| 4 | 4 |\n",
       "\n"
      ],
      "text/plain": [
       "  casa visitante\n",
       "1 1    0        \n",
       "2 1    3        \n",
       "3 1    1        \n",
       "4 2    1        \n",
       "5 0    1        \n",
       "6 4    4        "
      ]
     },
     "metadata": {},
     "output_type": "display_data"
    }
   ],
   "source": [
    "casa <- partidos_liga_española_df$FTHG\n",
    "visitante <- partidos_liga_española_df$FTAG\n",
    "goles <- as.data.frame(cbind(casa, visitante))\n",
    "head(goles)"
   ]
  },
  {
   "cell_type": "markdown",
   "id": "e6eaad37",
   "metadata": {},
   "source": [
    "Se consulta la documentacion de la función table ejecuntando `?table`"
   ]
  },
  {
   "cell_type": "code",
   "execution_count": 4,
   "id": "933df6cf",
   "metadata": {},
   "outputs": [],
   "source": [
    "?table"
   ]
  },
  {
   "cell_type": "markdown",
   "id": "a1c22bfe",
   "metadata": {},
   "source": [
    "Esta función muestra cuantas veces se repite un dato en un arreglo, es decir las frecuencias relativas. \n",
    "\n",
    "Esta función será de mucha importancia para obtener las probabilidades marginales y conjuntas."
   ]
  },
  {
   "cell_type": "markdown",
   "id": "4994a5f8",
   "metadata": {},
   "source": [
    "Para obtener las probabilidades marginales o simples debemos hacer:\n",
    "$$ P(X) = \\frac{partidos\\ con\\ X\\ goles}{Total\\ de\\ partidos\\ jugadods} $$"
   ]
  },
  {
   "cell_type": "markdown",
   "id": "35d7ae22",
   "metadata": {},
   "source": [
    "Para obtener las probabilidades conjuntas se realiza un procedimiento similar al descrito por la ecuación anterior:\n",
    "\n",
    "$$ P(X\\cap Y) = \\frac{partidos\\ con\\ X\\ goles\\ y\\ Y\\ goles}{total\\ de\\ partidos} $$\n",
    "\n",
    "donde $X$ son los goles realizados por el equipo que juega en casa y $Y$ son los goles realizados por el equipo visitante.\n",
    "\n",
    "Esto quiere decir que se debe obtener la frecuencia de cada una de las tuplas $(X, Y)$ y dividirlo entre el total de partidos.\n",
    "\n",
    "Entonces, se obtiene el número total de partidos y la tabla de frecuencias relativas:"
   ]
  },
  {
   "cell_type": "code",
   "execution_count": 5,
   "id": "e59f20e6",
   "metadata": {},
   "outputs": [
    {
     "data": {
      "text/html": [
       "380"
      ],
      "text/latex": [
       "380"
      ],
      "text/markdown": [
       "380"
      ],
      "text/plain": [
       "[1] 380"
      ]
     },
     "metadata": {},
     "output_type": "display_data"
    }
   ],
   "source": [
    "(total_de_partidos <- length(casa))"
   ]
  },
  {
   "cell_type": "code",
   "execution_count": 6,
   "id": "54e29389",
   "metadata": {},
   "outputs": [
    {
     "data": {
      "text/plain": [
       "    visitante\n",
       "casa  0  1  2  3  4  5\n",
       "   0 33 28 15  8  2  2\n",
       "   1 43 49 32  5  3  0\n",
       "   2 39 35 20  3  2  0\n",
       "   3 14 14  7  2  1  0\n",
       "   4  4  5  4  0  1  0\n",
       "   5  2  3  3  0  0  0\n",
       "   6  1  0  0  0  0  0"
      ]
     },
     "metadata": {},
     "output_type": "display_data"
    }
   ],
   "source": [
    "(matriz_goles <- table(goles))"
   ]
  },
  {
   "cell_type": "markdown",
   "id": "ae1de716",
   "metadata": {},
   "source": [
    "De la tabla `matriz_goles`, se puede obtener la frecuencia de los goles del equipo de casa sumando sus filas, asímismo  la frecuencia de goles del equipo visitante sumando sus columnas. \n",
    "\n",
    "Entonces, La probabilidad marginal de que el equipo que juega en casa anote $X$ goles es:"
   ]
  },
  {
   "cell_type": "code",
   "execution_count": 7,
   "id": "4594c19f",
   "metadata": {},
   "outputs": [
    {
     "data": {
      "text/html": [
       "<table>\n",
       "<thead><tr><th></th><th scope=col>goles</th><th scope=col>frecuencia_goles_casa</th><th scope=col>probabilidad_goles_casa</th></tr></thead>\n",
       "<tbody>\n",
       "\t<tr><th scope=row>0</th><td>0                  </td><td>88                 </td><td>0.231578947368421  </td></tr>\n",
       "\t<tr><th scope=row>1</th><td>1                  </td><td>132                </td><td>0.347368421052632  </td></tr>\n",
       "\t<tr><th scope=row>2</th><td>2                  </td><td>99                 </td><td>0.260526315789474  </td></tr>\n",
       "\t<tr><th scope=row>3</th><td>3                  </td><td>38                 </td><td>0.1                </td></tr>\n",
       "\t<tr><th scope=row>4</th><td>4                  </td><td>14                 </td><td>0.0368421052631579 </td></tr>\n",
       "\t<tr><th scope=row>5</th><td>5                  </td><td>8                  </td><td>0.0210526315789474 </td></tr>\n",
       "\t<tr><th scope=row>6</th><td>6                  </td><td>1                  </td><td>0.00263157894736842</td></tr>\n",
       "</tbody>\n",
       "</table>\n"
      ],
      "text/latex": [
       "\\begin{tabular}{r|lll}\n",
       "  & goles & frecuencia\\_goles\\_casa & probabilidad\\_goles\\_casa\\\\\n",
       "\\hline\n",
       "\t0 & 0                   & 88                  & 0.231578947368421  \\\\\n",
       "\t1 & 1                   & 132                 & 0.347368421052632  \\\\\n",
       "\t2 & 2                   & 99                  & 0.260526315789474  \\\\\n",
       "\t3 & 3                   & 38                  & 0.1                \\\\\n",
       "\t4 & 4                   & 14                  & 0.0368421052631579 \\\\\n",
       "\t5 & 5                   & 8                   & 0.0210526315789474 \\\\\n",
       "\t6 & 6                   & 1                   & 0.00263157894736842\\\\\n",
       "\\end{tabular}\n"
      ],
      "text/markdown": [
       "\n",
       "| <!--/--> | goles | frecuencia_goles_casa | probabilidad_goles_casa |\n",
       "|---|---|---|---|\n",
       "| 0 | 0                   | 88                  | 0.231578947368421   |\n",
       "| 1 | 1                   | 132                 | 0.347368421052632   |\n",
       "| 2 | 2                   | 99                  | 0.260526315789474   |\n",
       "| 3 | 3                   | 38                  | 0.1                 |\n",
       "| 4 | 4                   | 14                  | 0.0368421052631579  |\n",
       "| 5 | 5                   | 8                   | 0.0210526315789474  |\n",
       "| 6 | 6                   | 1                   | 0.00263157894736842 |\n",
       "\n"
      ],
      "text/plain": [
       "  goles frecuencia_goles_casa probabilidad_goles_casa\n",
       "0 0     88                    0.231578947368421      \n",
       "1 1     132                   0.347368421052632      \n",
       "2 2     99                    0.260526315789474      \n",
       "3 3     38                    0.1                    \n",
       "4 4     14                    0.0368421052631579     \n",
       "5 5     8                     0.0210526315789474     \n",
       "6 6     1                     0.00263157894736842    "
      ]
     },
     "metadata": {},
     "output_type": "display_data"
    }
   ],
   "source": [
    "frecuencia_goles_casa <- rowSums(matriz_goles)\n",
    "probabilidad_goles_casa <- c(frecuencia_goles_casa / total_de_partidos)\n",
    "tabla_casa <- as.data.frame(cbind(names(frecuencia_goles_casa), \n",
    "                                   frecuencia_goles_casa,\n",
    "                                   probabilidad_goles_casa))\n",
    "(tabla_casa <- rename(tabla_casa, goles = V1))"
   ]
  },
  {
   "cell_type": "markdown",
   "id": "d6975ad9",
   "metadata": {},
   "source": [
    "Análogamente para obtener la probabilidad marginal de los goles de visitante"
   ]
  },
  {
   "cell_type": "code",
   "execution_count": 8,
   "id": "211e2ee4",
   "metadata": {},
   "outputs": [
    {
     "data": {
      "text/html": [
       "<table>\n",
       "<thead><tr><th></th><th scope=col>goles</th><th scope=col>frecuencia_goles_visitante</th><th scope=col>probabilidad_goles_visitante</th></tr></thead>\n",
       "<tbody>\n",
       "\t<tr><th scope=row>0</th><td>0                  </td><td>136                </td><td>0.357894736842105  </td></tr>\n",
       "\t<tr><th scope=row>1</th><td>1                  </td><td>134                </td><td>0.352631578947368  </td></tr>\n",
       "\t<tr><th scope=row>2</th><td>2                  </td><td>81                 </td><td>0.213157894736842  </td></tr>\n",
       "\t<tr><th scope=row>3</th><td>3                  </td><td>18                 </td><td>0.0473684210526316 </td></tr>\n",
       "\t<tr><th scope=row>4</th><td>4                  </td><td>9                  </td><td>0.0236842105263158 </td></tr>\n",
       "\t<tr><th scope=row>5</th><td>5                  </td><td>2                  </td><td>0.00526315789473684</td></tr>\n",
       "</tbody>\n",
       "</table>\n"
      ],
      "text/latex": [
       "\\begin{tabular}{r|lll}\n",
       "  & goles & frecuencia\\_goles\\_visitante & probabilidad\\_goles\\_visitante\\\\\n",
       "\\hline\n",
       "\t0 & 0                   & 136                 & 0.357894736842105  \\\\\n",
       "\t1 & 1                   & 134                 & 0.352631578947368  \\\\\n",
       "\t2 & 2                   & 81                  & 0.213157894736842  \\\\\n",
       "\t3 & 3                   & 18                  & 0.0473684210526316 \\\\\n",
       "\t4 & 4                   & 9                   & 0.0236842105263158 \\\\\n",
       "\t5 & 5                   & 2                   & 0.00526315789473684\\\\\n",
       "\\end{tabular}\n"
      ],
      "text/markdown": [
       "\n",
       "| <!--/--> | goles | frecuencia_goles_visitante | probabilidad_goles_visitante |\n",
       "|---|---|---|---|\n",
       "| 0 | 0                   | 136                 | 0.357894736842105   |\n",
       "| 1 | 1                   | 134                 | 0.352631578947368   |\n",
       "| 2 | 2                   | 81                  | 0.213157894736842   |\n",
       "| 3 | 3                   | 18                  | 0.0473684210526316  |\n",
       "| 4 | 4                   | 9                   | 0.0236842105263158  |\n",
       "| 5 | 5                   | 2                   | 0.00526315789473684 |\n",
       "\n"
      ],
      "text/plain": [
       "  goles frecuencia_goles_visitante probabilidad_goles_visitante\n",
       "0 0     136                        0.357894736842105           \n",
       "1 1     134                        0.352631578947368           \n",
       "2 2     81                         0.213157894736842           \n",
       "3 3     18                         0.0473684210526316          \n",
       "4 4     9                          0.0236842105263158          \n",
       "5 5     2                          0.00526315789473684         "
      ]
     },
     "metadata": {},
     "output_type": "display_data"
    }
   ],
   "source": [
    "frecuencia_goles_visitante <- colSums(matriz_goles)\n",
    "probabilidad_goles_visitante <- c(frecuencia_goles_visitante / total_de_partidos)\n",
    "tabla_visitante <- as.data.frame(cbind(names(frecuencia_goles_visitante), \n",
    "                                       frecuencia_goles_visitante, \n",
    "                                       probabilidad_goles_visitante))\n",
    "(tabla_visitante <- rename(tabla_visitante, goles = V1))"
   ]
  },
  {
   "cell_type": "markdown",
   "id": "fb093fde",
   "metadata": {},
   "source": [
    "Para la probabilidad conjunta basta hacer:"
   ]
  },
  {
   "cell_type": "code",
   "execution_count": 9,
   "id": "0df775db",
   "metadata": {},
   "outputs": [
    {
     "data": {
      "text/html": [
       "<table>\n",
       "<thead><tr><th scope=col>goles_casa</th><th scope=col>goles_visitante</th><th scope=col>probabilidad</th></tr></thead>\n",
       "<tbody>\n",
       "\t<tr><td>0          </td><td>0          </td><td>0.086842105</td></tr>\n",
       "\t<tr><td>1          </td><td>0          </td><td>0.113157895</td></tr>\n",
       "\t<tr><td>2          </td><td>0          </td><td>0.102631579</td></tr>\n",
       "\t<tr><td>3          </td><td>0          </td><td>0.036842105</td></tr>\n",
       "\t<tr><td>4          </td><td>0          </td><td>0.010526316</td></tr>\n",
       "\t<tr><td>5          </td><td>0          </td><td>0.005263158</td></tr>\n",
       "\t<tr><td>6          </td><td>0          </td><td>0.002631579</td></tr>\n",
       "\t<tr><td>0          </td><td>1          </td><td>0.073684211</td></tr>\n",
       "\t<tr><td>1          </td><td>1          </td><td>0.128947368</td></tr>\n",
       "\t<tr><td>2          </td><td>1          </td><td>0.092105263</td></tr>\n",
       "\t<tr><td>3          </td><td>1          </td><td>0.036842105</td></tr>\n",
       "\t<tr><td>4          </td><td>1          </td><td>0.013157895</td></tr>\n",
       "\t<tr><td>5          </td><td>1          </td><td>0.007894737</td></tr>\n",
       "\t<tr><td>6          </td><td>1          </td><td>0.000000000</td></tr>\n",
       "\t<tr><td>0          </td><td>2          </td><td>0.039473684</td></tr>\n",
       "\t<tr><td>1          </td><td>2          </td><td>0.084210526</td></tr>\n",
       "\t<tr><td>2          </td><td>2          </td><td>0.052631579</td></tr>\n",
       "\t<tr><td>3          </td><td>2          </td><td>0.018421053</td></tr>\n",
       "\t<tr><td>4          </td><td>2          </td><td>0.010526316</td></tr>\n",
       "\t<tr><td>5          </td><td>2          </td><td>0.007894737</td></tr>\n",
       "\t<tr><td>6          </td><td>2          </td><td>0.000000000</td></tr>\n",
       "\t<tr><td>0          </td><td>3          </td><td>0.021052632</td></tr>\n",
       "\t<tr><td>1          </td><td>3          </td><td>0.013157895</td></tr>\n",
       "\t<tr><td>2          </td><td>3          </td><td>0.007894737</td></tr>\n",
       "\t<tr><td>3          </td><td>3          </td><td>0.005263158</td></tr>\n",
       "\t<tr><td>4          </td><td>3          </td><td>0.000000000</td></tr>\n",
       "\t<tr><td>5          </td><td>3          </td><td>0.000000000</td></tr>\n",
       "\t<tr><td>6          </td><td>3          </td><td>0.000000000</td></tr>\n",
       "\t<tr><td>0          </td><td>4          </td><td>0.005263158</td></tr>\n",
       "\t<tr><td>1          </td><td>4          </td><td>0.007894737</td></tr>\n",
       "\t<tr><td>2          </td><td>4          </td><td>0.005263158</td></tr>\n",
       "\t<tr><td>3          </td><td>4          </td><td>0.002631579</td></tr>\n",
       "\t<tr><td>4          </td><td>4          </td><td>0.002631579</td></tr>\n",
       "\t<tr><td>5          </td><td>4          </td><td>0.000000000</td></tr>\n",
       "\t<tr><td>6          </td><td>4          </td><td>0.000000000</td></tr>\n",
       "\t<tr><td>0          </td><td>5          </td><td>0.005263158</td></tr>\n",
       "\t<tr><td>1          </td><td>5          </td><td>0.000000000</td></tr>\n",
       "\t<tr><td>2          </td><td>5          </td><td>0.000000000</td></tr>\n",
       "\t<tr><td>3          </td><td>5          </td><td>0.000000000</td></tr>\n",
       "\t<tr><td>4          </td><td>5          </td><td>0.000000000</td></tr>\n",
       "\t<tr><td>5          </td><td>5          </td><td>0.000000000</td></tr>\n",
       "\t<tr><td>6          </td><td>5          </td><td>0.000000000</td></tr>\n",
       "</tbody>\n",
       "</table>\n"
      ],
      "text/latex": [
       "\\begin{tabular}{r|lll}\n",
       " goles\\_casa & goles\\_visitante & probabilidad\\\\\n",
       "\\hline\n",
       "\t 0           & 0           & 0.086842105\\\\\n",
       "\t 1           & 0           & 0.113157895\\\\\n",
       "\t 2           & 0           & 0.102631579\\\\\n",
       "\t 3           & 0           & 0.036842105\\\\\n",
       "\t 4           & 0           & 0.010526316\\\\\n",
       "\t 5           & 0           & 0.005263158\\\\\n",
       "\t 6           & 0           & 0.002631579\\\\\n",
       "\t 0           & 1           & 0.073684211\\\\\n",
       "\t 1           & 1           & 0.128947368\\\\\n",
       "\t 2           & 1           & 0.092105263\\\\\n",
       "\t 3           & 1           & 0.036842105\\\\\n",
       "\t 4           & 1           & 0.013157895\\\\\n",
       "\t 5           & 1           & 0.007894737\\\\\n",
       "\t 6           & 1           & 0.000000000\\\\\n",
       "\t 0           & 2           & 0.039473684\\\\\n",
       "\t 1           & 2           & 0.084210526\\\\\n",
       "\t 2           & 2           & 0.052631579\\\\\n",
       "\t 3           & 2           & 0.018421053\\\\\n",
       "\t 4           & 2           & 0.010526316\\\\\n",
       "\t 5           & 2           & 0.007894737\\\\\n",
       "\t 6           & 2           & 0.000000000\\\\\n",
       "\t 0           & 3           & 0.021052632\\\\\n",
       "\t 1           & 3           & 0.013157895\\\\\n",
       "\t 2           & 3           & 0.007894737\\\\\n",
       "\t 3           & 3           & 0.005263158\\\\\n",
       "\t 4           & 3           & 0.000000000\\\\\n",
       "\t 5           & 3           & 0.000000000\\\\\n",
       "\t 6           & 3           & 0.000000000\\\\\n",
       "\t 0           & 4           & 0.005263158\\\\\n",
       "\t 1           & 4           & 0.007894737\\\\\n",
       "\t 2           & 4           & 0.005263158\\\\\n",
       "\t 3           & 4           & 0.002631579\\\\\n",
       "\t 4           & 4           & 0.002631579\\\\\n",
       "\t 5           & 4           & 0.000000000\\\\\n",
       "\t 6           & 4           & 0.000000000\\\\\n",
       "\t 0           & 5           & 0.005263158\\\\\n",
       "\t 1           & 5           & 0.000000000\\\\\n",
       "\t 2           & 5           & 0.000000000\\\\\n",
       "\t 3           & 5           & 0.000000000\\\\\n",
       "\t 4           & 5           & 0.000000000\\\\\n",
       "\t 5           & 5           & 0.000000000\\\\\n",
       "\t 6           & 5           & 0.000000000\\\\\n",
       "\\end{tabular}\n"
      ],
      "text/markdown": [
       "\n",
       "| goles_casa | goles_visitante | probabilidad |\n",
       "|---|---|---|\n",
       "| 0           | 0           | 0.086842105 |\n",
       "| 1           | 0           | 0.113157895 |\n",
       "| 2           | 0           | 0.102631579 |\n",
       "| 3           | 0           | 0.036842105 |\n",
       "| 4           | 0           | 0.010526316 |\n",
       "| 5           | 0           | 0.005263158 |\n",
       "| 6           | 0           | 0.002631579 |\n",
       "| 0           | 1           | 0.073684211 |\n",
       "| 1           | 1           | 0.128947368 |\n",
       "| 2           | 1           | 0.092105263 |\n",
       "| 3           | 1           | 0.036842105 |\n",
       "| 4           | 1           | 0.013157895 |\n",
       "| 5           | 1           | 0.007894737 |\n",
       "| 6           | 1           | 0.000000000 |\n",
       "| 0           | 2           | 0.039473684 |\n",
       "| 1           | 2           | 0.084210526 |\n",
       "| 2           | 2           | 0.052631579 |\n",
       "| 3           | 2           | 0.018421053 |\n",
       "| 4           | 2           | 0.010526316 |\n",
       "| 5           | 2           | 0.007894737 |\n",
       "| 6           | 2           | 0.000000000 |\n",
       "| 0           | 3           | 0.021052632 |\n",
       "| 1           | 3           | 0.013157895 |\n",
       "| 2           | 3           | 0.007894737 |\n",
       "| 3           | 3           | 0.005263158 |\n",
       "| 4           | 3           | 0.000000000 |\n",
       "| 5           | 3           | 0.000000000 |\n",
       "| 6           | 3           | 0.000000000 |\n",
       "| 0           | 4           | 0.005263158 |\n",
       "| 1           | 4           | 0.007894737 |\n",
       "| 2           | 4           | 0.005263158 |\n",
       "| 3           | 4           | 0.002631579 |\n",
       "| 4           | 4           | 0.002631579 |\n",
       "| 5           | 4           | 0.000000000 |\n",
       "| 6           | 4           | 0.000000000 |\n",
       "| 0           | 5           | 0.005263158 |\n",
       "| 1           | 5           | 0.000000000 |\n",
       "| 2           | 5           | 0.000000000 |\n",
       "| 3           | 5           | 0.000000000 |\n",
       "| 4           | 5           | 0.000000000 |\n",
       "| 5           | 5           | 0.000000000 |\n",
       "| 6           | 5           | 0.000000000 |\n",
       "\n"
      ],
      "text/plain": [
       "   goles_casa goles_visitante probabilidad\n",
       "1  0          0               0.086842105 \n",
       "2  1          0               0.113157895 \n",
       "3  2          0               0.102631579 \n",
       "4  3          0               0.036842105 \n",
       "5  4          0               0.010526316 \n",
       "6  5          0               0.005263158 \n",
       "7  6          0               0.002631579 \n",
       "8  0          1               0.073684211 \n",
       "9  1          1               0.128947368 \n",
       "10 2          1               0.092105263 \n",
       "11 3          1               0.036842105 \n",
       "12 4          1               0.013157895 \n",
       "13 5          1               0.007894737 \n",
       "14 6          1               0.000000000 \n",
       "15 0          2               0.039473684 \n",
       "16 1          2               0.084210526 \n",
       "17 2          2               0.052631579 \n",
       "18 3          2               0.018421053 \n",
       "19 4          2               0.010526316 \n",
       "20 5          2               0.007894737 \n",
       "21 6          2               0.000000000 \n",
       "22 0          3               0.021052632 \n",
       "23 1          3               0.013157895 \n",
       "24 2          3               0.007894737 \n",
       "25 3          3               0.005263158 \n",
       "26 4          3               0.000000000 \n",
       "27 5          3               0.000000000 \n",
       "28 6          3               0.000000000 \n",
       "29 0          4               0.005263158 \n",
       "30 1          4               0.007894737 \n",
       "31 2          4               0.005263158 \n",
       "32 3          4               0.002631579 \n",
       "33 4          4               0.002631579 \n",
       "34 5          4               0.000000000 \n",
       "35 6          4               0.000000000 \n",
       "36 0          5               0.005263158 \n",
       "37 1          5               0.000000000 \n",
       "38 2          5               0.000000000 \n",
       "39 3          5               0.000000000 \n",
       "40 4          5               0.000000000 \n",
       "41 5          5               0.000000000 \n",
       "42 6          5               0.000000000 "
      ]
     },
     "metadata": {},
     "output_type": "display_data"
    }
   ],
   "source": [
    "probabilidad_conjunta <- as.data.frame(matriz_goles / total_de_partidos)\n",
    "(probabilidad_conjunta <- rename(probabilidad_conjunta, goles_casa = casa,\n",
    "                               goles_visitante = visitante,\n",
    "                               probabilidad = Freq))"
   ]
  }
 ],
 "metadata": {
  "kernelspec": {
   "display_name": "R",
   "language": "R",
   "name": "ir"
  },
  "language_info": {
   "codemirror_mode": "r",
   "file_extension": ".r",
   "mimetype": "text/x-r-source",
   "name": "R",
   "pygments_lexer": "r",
   "version": "3.6.1"
  }
 },
 "nbformat": 4,
 "nbformat_minor": 5
}
