{
 "cells": [
  {
   "cell_type": "markdown",
   "id": "78abb0cf",
   "metadata": {},
   "source": [
    "# Postwork Sesión 3\n",
    "\n",
    "#### Objetivo\n",
    "\n",
    "- Realizar descarga de archivos desde internet\n",
    "- Generar nuevos data frames\n",
    "- Visualizar probabilidades estimadas con la ayuda de gráficas\n",
    "\n",
    "#### Requisitos\n",
    "\n",
    "1. R, RStudio\n",
    "2. Haber realizado el prework y seguir el curso de los ejemplos de la sesión\n",
    "3. Curiosidad por investigar nuevos tópicos y funciones de R\n",
    "\n",
    "#### Desarrollo\n",
    "\n",
    "Ahora graficaremos probabilidades (estimadas) marginales y conjuntas para el número de goles que anotan en un partido el equipo de casa o el equipo visitante.\n",
    "\n",
    "1. Con el último data frame obtenido en el postwork de la sesión 2, elabora tablas de frecuencias relativas para estimar las siguientes probabilidades:\n",
    "\n",
    "- La probabilidad (marginal) de que el equipo que juega en casa anote x goles (x=0,1,2,)\n",
    "\n",
    "- La probabilidad (marginal) de que el equipo que juega como visitante anote y goles (y=0,1,2,)\n",
    "\n",
    "- La probabilidad (conjunta) de que el equipo que juega en casa anote x goles y el equipo que juega como visitante anote y goles (x=0,1,2,, y=0,1,2,)\n",
    "\n",
    "2. Realiza lo siguiente:\n",
    "\n",
    "- Un gráfico de barras para las probabilidades marginales estimadas del número de goles que anota el equipo de casa.\n",
    "- Un gráfico de barras para las probabilidades marginales estimadas del número de goles que anota el equipo visitante.\n",
    "- Un HeatMap para las probabilidades conjuntas estimadas de los números de goles que anotan el equipo de casa y el equipo visitante en un partido.\n",
    "\n",
    "__Notas para los datos de soccer:__ https://www.football-data.co.uk/notes.txt\n"
   ]
  },
  {
   "cell_type": "markdown",
   "id": "b10f5a72",
   "metadata": {},
   "source": [
    "##### Librerías utilizadas"
   ]
  },
  {
   "cell_type": "code",
   "execution_count": 14,
   "id": "250b7797",
   "metadata": {},
   "outputs": [
    {
     "name": "stderr",
     "output_type": "stream",
     "text": [
      "Warning message:\n",
      "\"package 'hrbrthemes' was built under R version 3.6.3\""
     ]
    },
    {
     "ename": "ERROR",
     "evalue": "Error: package or namespace load failed for 'hrbrthemes' in loadNamespace(i, c(lib.loc, .libPaths()), versionCheck = vI[[i]]):\n namespace 'ggplot2' 3.1.1 is already loaded, but >= 3.3.0 is required\n",
     "output_type": "error",
     "traceback": [
      "Error: package or namespace load failed for 'hrbrthemes' in loadNamespace(i, c(lib.loc, .libPaths()), versionCheck = vI[[i]]):\n namespace 'ggplot2' 3.1.1 is already loaded, but >= 3.3.0 is required\nTraceback:\n",
      "1. library(hrbrthemes)",
      "2. tryCatch({\n .     attr(package, \"LibPath\") <- which.lib.loc\n .     ns <- loadNamespace(package, lib.loc)\n .     env <- attachNamespace(ns, pos = pos, deps, exclude, include.only)\n . }, error = function(e) {\n .     P <- if (!is.null(cc <- conditionCall(e))) \n .         paste(\" in\", deparse(cc)[1L])\n .     else \"\"\n .     msg <- gettextf(\"package or namespace load failed for %s%s:\\n %s\", \n .         sQuote(package), P, conditionMessage(e))\n .     if (logical.return) \n .         message(paste(\"Error:\", msg), domain = NA)\n .     else stop(msg, call. = FALSE, domain = NA)\n . })",
      "3. tryCatchList(expr, classes, parentenv, handlers)",
      "4. tryCatchOne(expr, names, parentenv, handlers[[1L]])",
      "5. value[[3L]](cond)",
      "6. stop(msg, call. = FALSE, domain = NA)"
     ]
    }
   ],
   "source": [
    "suppressMessages(suppressWarnings(library(dplyr)))\n",
    "library(tensor)\n",
    "library(ggplot2)"
   ]
  },
  {
   "cell_type": "code",
   "execution_count": 13,
   "id": "6be40531-0c13-47f8-8e44-b4bfd17e473f",
   "metadata": {},
   "outputs": [
    {
     "name": "stderr",
     "output_type": "stream",
     "text": [
      "also installing the dependency 'ggplot2'\n",
      "\n"
     ]
    },
    {
     "name": "stdout",
     "output_type": "stream",
     "text": [
      "\n",
      "  There is a binary version available but the source version is later:\n",
      "        binary source needs_compilation\n",
      "ggplot2  3.3.3  3.3.5             FALSE\n",
      "\n",
      "package 'hrbrthemes' successfully unpacked and MD5 sums checked\n",
      "\n",
      "The downloaded binary packages are in\n",
      "\tC:\\Users\\eherr\\AppData\\Local\\Temp\\RtmpI9PZCq\\downloaded_packages\n"
     ]
    },
    {
     "name": "stderr",
     "output_type": "stream",
     "text": [
      "installing the source package 'ggplot2'\n",
      "\n"
     ]
    }
   ],
   "source": [
    "install.packages(\"hrbrthemes\")"
   ]
  },
  {
   "cell_type": "code",
   "execution_count": 2,
   "id": "82f7de82",
   "metadata": {},
   "outputs": [],
   "source": [
    "setwd(\"c:/Users/eherr/OneDrive/Documents/BEDU/ProgramacionYEstadisticaConR/Sesion2/Files/PostworkSesion2\")"
   ]
  },
  {
   "cell_type": "code",
   "execution_count": 5,
   "id": "dda9e7a3",
   "metadata": {},
   "outputs": [
    {
     "data": {
      "text/html": [
       "<table>\n",
       "<thead><tr><th scope=col>FTHG</th><th scope=col>FTAG</th></tr></thead>\n",
       "<tbody>\n",
       "\t<tr><td>1</td><td>0</td></tr>\n",
       "\t<tr><td>1</td><td>0</td></tr>\n",
       "\t<tr><td>2</td><td>3</td></tr>\n",
       "\t<tr><td>2</td><td>2</td></tr>\n",
       "\t<tr><td>1</td><td>1</td></tr>\n",
       "\t<tr><td>0</td><td>0</td></tr>\n",
       "</tbody>\n",
       "</table>\n"
      ],
      "text/latex": [
       "\\begin{tabular}{r|ll}\n",
       " FTHG & FTAG\\\\\n",
       "\\hline\n",
       "\t 1 & 0\\\\\n",
       "\t 1 & 0\\\\\n",
       "\t 2 & 3\\\\\n",
       "\t 2 & 2\\\\\n",
       "\t 1 & 1\\\\\n",
       "\t 0 & 0\\\\\n",
       "\\end{tabular}\n"
      ],
      "text/markdown": [
       "\n",
       "| FTHG | FTAG |\n",
       "|---|---|\n",
       "| 1 | 0 |\n",
       "| 1 | 0 |\n",
       "| 2 | 3 |\n",
       "| 2 | 2 |\n",
       "| 1 | 1 |\n",
       "| 0 | 0 |\n",
       "\n"
      ],
      "text/plain": [
       "  FTHG FTAG\n",
       "1 1    0   \n",
       "2 1    0   \n",
       "3 2    3   \n",
       "4 2    2   \n",
       "5 1    1   \n",
       "6 0    0   "
      ]
     },
     "metadata": {},
     "output_type": "display_data"
    }
   ],
   "source": [
    "data_partidos_18_21 <- read.csv(\"Partidos_18_21.csv\")\n",
    "df_goles <- select(data_partidos_18_21, FTHG, FTAG)\n",
    "head(df_goles)"
   ]
  },
  {
   "cell_type": "code",
   "execution_count": 6,
   "id": "1a65a6f2",
   "metadata": {},
   "outputs": [
    {
     "data": {
      "text/html": [
       "<table>\n",
       "<thead><tr><th scope=col>goles</th><th scope=col>Freq</th></tr></thead>\n",
       "<tbody>\n",
       "\t<tr><td>0         </td><td>0.23245614</td></tr>\n",
       "\t<tr><td>1         </td><td>0.32719298</td></tr>\n",
       "\t<tr><td>2         </td><td>0.26666667</td></tr>\n",
       "\t<tr><td>3         </td><td>0.11228070</td></tr>\n",
       "\t<tr><td>4         </td><td>0.03508772</td></tr>\n",
       "\t<tr><td>5         </td><td>0.01929825</td></tr>\n",
       "</tbody>\n",
       "</table>\n"
      ],
      "text/latex": [
       "\\begin{tabular}{r|ll}\n",
       " goles & Freq\\\\\n",
       "\\hline\n",
       "\t 0          & 0.23245614\\\\\n",
       "\t 1          & 0.32719298\\\\\n",
       "\t 2          & 0.26666667\\\\\n",
       "\t 3          & 0.11228070\\\\\n",
       "\t 4          & 0.03508772\\\\\n",
       "\t 5          & 0.01929825\\\\\n",
       "\\end{tabular}\n"
      ],
      "text/markdown": [
       "\n",
       "| goles | Freq |\n",
       "|---|---|\n",
       "| 0          | 0.23245614 |\n",
       "| 1          | 0.32719298 |\n",
       "| 2          | 0.26666667 |\n",
       "| 3          | 0.11228070 |\n",
       "| 4          | 0.03508772 |\n",
       "| 5          | 0.01929825 |\n",
       "\n"
      ],
      "text/plain": [
       "  goles Freq      \n",
       "1 0     0.23245614\n",
       "2 1     0.32719298\n",
       "3 2     0.26666667\n",
       "4 3     0.11228070\n",
       "5 4     0.03508772\n",
       "6 5     0.01929825"
      ]
     },
     "metadata": {},
     "output_type": "display_data"
    }
   ],
   "source": [
    "prob_casa <- as.data.frame(prop.table(table(goles = df_goles$FTHG)))\n",
    "head(prob_casa)"
   ]
  },
  {
   "cell_type": "code",
   "execution_count": 7,
   "id": "0a844793",
   "metadata": {},
   "outputs": [
    {
     "data": {
      "text/html": [
       "<table>\n",
       "<thead><tr><th scope=col>goles</th><th scope=col>Freq</th></tr></thead>\n",
       "<tbody>\n",
       "\t<tr><td>0          </td><td>0.351754386</td></tr>\n",
       "\t<tr><td>1          </td><td>0.340350877</td></tr>\n",
       "\t<tr><td>2          </td><td>0.212280702</td></tr>\n",
       "\t<tr><td>3          </td><td>0.054385965</td></tr>\n",
       "\t<tr><td>4          </td><td>0.028947368</td></tr>\n",
       "\t<tr><td>5          </td><td>0.009649123</td></tr>\n",
       "</tbody>\n",
       "</table>\n"
      ],
      "text/latex": [
       "\\begin{tabular}{r|ll}\n",
       " goles & Freq\\\\\n",
       "\\hline\n",
       "\t 0           & 0.351754386\\\\\n",
       "\t 1           & 0.340350877\\\\\n",
       "\t 2           & 0.212280702\\\\\n",
       "\t 3           & 0.054385965\\\\\n",
       "\t 4           & 0.028947368\\\\\n",
       "\t 5           & 0.009649123\\\\\n",
       "\\end{tabular}\n"
      ],
      "text/markdown": [
       "\n",
       "| goles | Freq |\n",
       "|---|---|\n",
       "| 0           | 0.351754386 |\n",
       "| 1           | 0.340350877 |\n",
       "| 2           | 0.212280702 |\n",
       "| 3           | 0.054385965 |\n",
       "| 4           | 0.028947368 |\n",
       "| 5           | 0.009649123 |\n",
       "\n"
      ],
      "text/plain": [
       "  goles Freq       \n",
       "1 0     0.351754386\n",
       "2 1     0.340350877\n",
       "3 2     0.212280702\n",
       "4 3     0.054385965\n",
       "5 4     0.028947368\n",
       "6 5     0.009649123"
      ]
     },
     "metadata": {},
     "output_type": "display_data"
    }
   ],
   "source": [
    "prob_visitante <- as.data.frame(prop.table(table(goles = df_goles$FTAG)))\n",
    "head(prob_visitante)"
   ]
  },
  {
   "cell_type": "code",
   "execution_count": 8,
   "id": "04eb934d-de56-4761-acd7-64007f011238",
   "metadata": {},
   "outputs": [
    {
     "data": {
      "text/html": [
       "<table>\n",
       "<thead><tr><th scope=col>goles_casa</th><th scope=col>goles_visitante</th><th scope=col>Freq</th></tr></thead>\n",
       "<tbody>\n",
       "\t<tr><td>0         </td><td>0         </td><td>0.07807018</td></tr>\n",
       "\t<tr><td>1         </td><td>0         </td><td>0.11578947</td></tr>\n",
       "\t<tr><td>2         </td><td>0         </td><td>0.08771930</td></tr>\n",
       "\t<tr><td>3         </td><td>0         </td><td>0.04473684</td></tr>\n",
       "\t<tr><td>4         </td><td>0         </td><td>0.01403509</td></tr>\n",
       "\t<tr><td>5         </td><td>0         </td><td>0.00877193</td></tr>\n",
       "</tbody>\n",
       "</table>\n"
      ],
      "text/latex": [
       "\\begin{tabular}{r|lll}\n",
       " goles\\_casa & goles\\_visitante & Freq\\\\\n",
       "\\hline\n",
       "\t 0          & 0          & 0.07807018\\\\\n",
       "\t 1          & 0          & 0.11578947\\\\\n",
       "\t 2          & 0          & 0.08771930\\\\\n",
       "\t 3          & 0          & 0.04473684\\\\\n",
       "\t 4          & 0          & 0.01403509\\\\\n",
       "\t 5          & 0          & 0.00877193\\\\\n",
       "\\end{tabular}\n"
      ],
      "text/markdown": [
       "\n",
       "| goles_casa | goles_visitante | Freq |\n",
       "|---|---|---|\n",
       "| 0          | 0          | 0.07807018 |\n",
       "| 1          | 0          | 0.11578947 |\n",
       "| 2          | 0          | 0.08771930 |\n",
       "| 3          | 0          | 0.04473684 |\n",
       "| 4          | 0          | 0.01403509 |\n",
       "| 5          | 0          | 0.00877193 |\n",
       "\n"
      ],
      "text/plain": [
       "  goles_casa goles_visitante Freq      \n",
       "1 0          0               0.07807018\n",
       "2 1          0               0.11578947\n",
       "3 2          0               0.08771930\n",
       "4 3          0               0.04473684\n",
       "5 4          0               0.01403509\n",
       "6 5          0               0.00877193"
      ]
     },
     "metadata": {},
     "output_type": "display_data"
    }
   ],
   "source": [
    "prob_conjunta <- as.data.frame(prop.table(table(goles_casa = df_goles$FTHG,\n",
    "                                                goles_visitante = df_goles$FTAG)))\n",
    "head(prob_conjunta)"
   ]
  },
  {
   "cell_type": "code",
   "execution_count": 9,
   "id": "9eb84de8-9995-444f-8d94-ebd4bbfe4b11",
   "metadata": {},
   "outputs": [
    {
     "data": {
      "image/png": "[encoded data removed]",
      "text/plain": [
       "plot without title"
      ]
     },
     "metadata": {},
     "output_type": "display_data"
    }
   ],
   "source": [
    "bar_casa <- ggplot(prob_casa, aes(x=goles, y=Freq)) +\n",
    "  geom_bar(stat='identity') +\n",
    "  ylab(\"Frecuencia\") +\n",
    "  theme_dark() +\n",
    "  ggtitle(\"Frecuencia de goles jugando en casa\")\n",
    "bar_casa"
   ]
  },
  {
   "cell_type": "code",
   "execution_count": 10,
   "id": "468e80b9-10e4-4a54-a930-dd104020e67e",
   "metadata": {},
   "outputs": [
    {
     "data": {
      "image/png": "[encoded data removed]",
      "text/plain": [
       "plot without title"
      ]
     },
     "metadata": {},
     "output_type": "display_data"
    }
   ],
   "source": [
    "bar_visitante <- ggplot(prob_visitante, aes(x=goles, y=Freq)) +\n",
    "  geom_bar(stat='identity') +\n",
    "  ylab(\"Frecuencia\") +\n",
    "  theme_dark() +\n",
    "  ggtitle(\"Frecuencia de goles jugando como visitante\")\n",
    "bar_visitante"
   ]
  },
  {
   "cell_type": "code",
   "execution_count": 15,
   "id": "5f38c575-b4ff-4253-a933-79e56434a777",
   "metadata": {},
   "outputs": [
    {
     "data": {
      "image/png": "[encoded data removed]",
      "text/plain": [
       "plot without title"
      ]
     },
     "metadata": {},
     "output_type": "display_data"
    }
   ],
   "source": [
    "heat_conjunta <- ggplot(prob_conjunta, aes(x=goles_casa, y=goles_visitante, fill=Freq)) +\n",
    "  geom_tile() +\n",
    "  ggtitle(\"Heatmap goles\") +\n",
    "  scale_fill_gradient(low=\"pink\", high=\"blue\") +\n",
    "  theme_dark()\n",
    "heat_conjunta"
   ]
  },
  {
   "cell_type": "code",
   "execution_count": null,
   "id": "1968a403-277a-4686-bf0f-20d7f296a510",
   "metadata": {},
   "outputs": [],
   "source": []
  },
  {
   "cell_type": "code",
   "execution_count": null,
   "id": "1613e408-4d14-4e1a-975f-b23d99674e79",
   "metadata": {},
   "outputs": [],
   "source": []
  },
  {
   "cell_type": "code",
   "execution_count": null,
   "id": "c54797c2-4020-441d-ae36-b02c8273a487",
   "metadata": {},
   "outputs": [],
   "source": []
  }
 ],
 "metadata": {
  "kernelspec": {
   "display_name": "R",
   "language": "R",
   "name": "ir"
  },
  "language_info": {
   "codemirror_mode": "r",
   "file_extension": ".r",
   "mimetype": "text/x-r-source",
   "name": "R",
   "pygments_lexer": "r",
   "version": "3.6.1"
  }
 },
 "nbformat": 4,
 "nbformat_minor": 5
}
