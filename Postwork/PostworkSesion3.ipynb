{
 "cells": [
  {
   "cell_type": "markdown",
   "id": "78abb0cf",
   "metadata": {},
   "source": [
    "# Postwork Sesión 3\n",
    "\n",
    "#### Objetivo\n",
    "\n",
    "- Realizar descarga de archivos desde internet\n",
    "- Generar nuevos data frames\n",
    "- Visualizar probabilidades estimadas con la ayuda de gráficas\n",
    "\n",
    "#### Requisitos\n",
    "\n",
    "1. R, RStudio\n",
    "2. Haber realizado el prework y seguir el curso de los ejemplos de la sesión\n",
    "3. Curiosidad por investigar nuevos tópicos y funciones de R\n",
    "\n",
    "#### Desarrollo\n",
    "\n",
    "Ahora graficaremos probabilidades (estimadas) marginales y conjuntas para el número de goles que anotan en un partido el equipo de casa o el equipo visitante.\n",
    "\n",
    "1. Con el último data frame obtenido en el postwork de la sesión 2, elabora tablas de frecuencias relativas para estimar las siguientes probabilidades:\n",
    "\n",
    "- La probabilidad (marginal) de que el equipo que juega en casa anote x goles (x=0,1,2,)\n",
    "\n",
    "- La probabilidad (marginal) de que el equipo que juega como visitante anote y goles (y=0,1,2,)\n",
    "\n",
    "- La probabilidad (conjunta) de que el equipo que juega en casa anote x goles y el equipo que juega como visitante anote y goles (x=0,1,2,, y=0,1,2,)\n",
    "\n",
    "2. Realiza lo siguiente:\n",
    "\n",
    "- Un gráfico de barras para las probabilidades marginales estimadas del número de goles que anota el equipo de casa.\n",
    "- Un gráfico de barras para las probabilidades marginales estimadas del número de goles que anota el equipo visitante.\n",
    "- Un HeatMap para las probabilidades conjuntas estimadas de los números de goles que anotan el equipo de casa y el equipo visitante en un partido.\n",
    "\n",
    "__Notas para los datos de soccer:__ https://www.football-data.co.uk/notes.txt\n"
   ]
  },
  {
   "cell_type": "markdown",
   "id": "b10f5a72",
   "metadata": {},
   "source": [
    "##### Librerías utilizadas"
   ]
  },
  {
   "cell_type": "code",
   "execution_count": 1,
   "id": "250b7797",
   "metadata": {},
   "outputs": [
    {
     "name": "stderr",
     "output_type": "stream",
     "text": [
      "Registered S3 methods overwritten by 'ggplot2':\n",
      "  method         from \n",
      "  [.quosures     rlang\n",
      "  c.quosures     rlang\n",
      "  print.quosures rlang\n"
     ]
    }
   ],
   "source": [
    "suppressMessages(suppressWarnings(library(dplyr)))\n",
    "library(tensor)\n",
    "library(ggplot2)"
   ]
  },
  {
   "cell_type": "code",
   "execution_count": null,
   "id": "82f7de82",
   "metadata": {},
   "outputs": [],
   "source": []
  },
  {
   "cell_type": "code",
   "execution_count": null,
   "id": "dda9e7a3",
   "metadata": {},
   "outputs": [],
   "source": []
  },
  {
   "cell_type": "code",
   "execution_count": null,
   "id": "1a65a6f2",
   "metadata": {},
   "outputs": [],
   "source": []
  },
  {
   "cell_type": "code",
   "execution_count": null,
   "id": "0a844793",
   "metadata": {},
   "outputs": [],
   "source": []
  }
 ],
 "metadata": {
  "kernelspec": {
   "display_name": "R",
   "language": "R",
   "name": "ir"
  },
  "language_info": {
   "codemirror_mode": "r",
   "file_extension": ".r",
   "mimetype": "text/x-r-source",
   "name": "R",
   "pygments_lexer": "r",
   "version": "3.6.1"
  }
 },
 "nbformat": 4,
 "nbformat_minor": 5
}
