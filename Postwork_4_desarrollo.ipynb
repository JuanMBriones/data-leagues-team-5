{
 "cells": [
  {
   "cell_type": "markdown",
   "id": "b6461879",
   "metadata": {},
   "source": [
    "# Postwork Sesión 4\n",
    "\n",
    "#### Objetivo\n",
    "\n",
    "- Investigar la dependencia o independecia de las variables aleatorias X y Y, el número de goles anotados por el equipo de casa y el número de goles anotados por el equipo visitante.\n",
    "\n",
    "#### Requisitos\n",
    "\n",
    "- R, RStudio\n",
    "- Haber trabajado con el prework y el work\n",
    "\n",
    "#### Desarrollo\n",
    "\n",
    "Ahora investigarás la dependencia o independencia del número de goles anotados por el equipo de casa y el número de goles anotados por el equipo visitante mediante un procedimiento denominado bootstrap, revisa bibliografía en internet para que tengas nociones de este desarrollo. \n",
    "\n",
    "1. Ya hemos estimado las probabilidades conjuntas de que el equipo de casa anote X=x goles (x=0,1,... ,8), y el equipo visitante anote Y=y goles (y=0,1,... ,6), en un partido. Obtén una tabla de cocientes al dividir estas probabilidades conjuntas por el producto de las probabilidades marginales correspondientes.\n",
    "\n",
    "2. Mediante un procedimiento de boostrap, obtén más cocientes similares a los obtenidos en la tabla del punto anterior. Esto para tener una idea de las distribuciones de la cual vienen los cocientes en la tabla anterior. Menciona en cuáles casos le parece razonable suponer que los cocientes de la tabla en el punto 1, son iguales a 1 (en tal caso tendríamos independencia de las variables aleatorias X y Y).\n",
    "\n",
    "__Notas para los datos de soccer:__ https://www.football-data.co.uk/notes.txt\n"
   ]
  },
  {
   "cell_type": "markdown",
   "id": "ed6cee96",
   "metadata": {},
   "source": [
    "#### Librerías utilizadas"
   ]
  },
  {
   "cell_type": "code",
   "execution_count": 13,
   "id": "d7d43cb6",
   "metadata": {},
   "outputs": [],
   "source": [
    "library(dplyr)\n",
    "library(rsample)\n",
    "library(comprehenr)\n",
    "library(data.table)\n",
    "options(warn = -1)"
   ]
  },
  {
   "cell_type": "markdown",
   "id": "d54d83cc",
   "metadata": {},
   "source": [
    "#### Carga de datos\n",
    "Primero procedemos a cargar los datos necesarios y su manipulación."
   ]
  },
  {
   "cell_type": "code",
   "execution_count": 2,
   "id": "478eaaf1",
   "metadata": {},
   "outputs": [],
   "source": [
    "# Carga de datos\n",
    "url_2017 <- \"https://www.football-data.co.uk/mmz4281/1718/SP1.csv\"\n",
    "url_2018 <- \"https://www.football-data.co.uk/mmz4281/1819/SP1.csv\"\n",
    "url_2019 <- \"https://www.football-data.co.uk/mmz4281/1920/SP1.csv\"\n",
    "urls <- c(url_2017, url_2018, url_2019) \n",
    "lista <- lapply(urls, read.csv)\n",
    "\n",
    "# Manipulando datos\n",
    "lista <- lapply(lista, select, Date, HomeTeam, AwayTeam, FTHG, FTAG, FTR) # Variables de interés\n",
    "lista <- lapply(lista, mutate, Date = as.Date(Date, format = \"%d/%m/%y\")) # Formato Date\n",
    "datos <- do.call(rbind, lista) # Unimos los data frames"
   ]
  },
  {
   "cell_type": "markdown",
   "id": "1b48c752",
   "metadata": {},
   "source": [
    "#### Solución 1\n",
    "\n",
    "Creamos una función que nos calcule los cocientes $\\frac{\\mathbb{P}(X = x, Y = y)}{\\mathbb{P}(X = x)\\mathbb{P}(Y = y)}$ para cada para de observación $(x,y)$, esta función la reutilizaremos para la solución del ejercicio 2.\n",
    "\n",
    "La columna $\\textit{id_goles}$ es de la forma $x$_$y$ dónde $x$ son los goles del equipo de casa y $y$ los goles del equipo visitante."
   ]
  },
  {
   "cell_type": "code",
   "execution_count": 3,
   "id": "91b76d8e",
   "metadata": {},
   "outputs": [],
   "source": [
    "cociente <- function(df){\n",
    "    marginal_golescasa <- as.data.frame(table(df$FTHG)/length(df$FTHG)) # Marginal Casa\n",
    "    names(marginal_golescasa) <- c(\"Goles\", \"Probabilidad\")\n",
    "    \n",
    "    marginal_golesvis <- as.data.frame(table(df$FTAG)/length(df$FTAG)) # Marginal Visitante\n",
    "    names(marginal_golesvis) <- c(\"Goles\", \"Probabilidad\")\n",
    "    \n",
    "    conjunta_goles <- as.data.frame(table(df$FTHG, df$FTAG)/length(df$FTHG)) # Conjunta\n",
    "    names(conjunta_goles) <- c(\"Goles_Casa\", \"Goles_Vis\", \"Probabilidad\")\n",
    "\n",
    "    # Cociente\n",
    "    conjunta_goles <- merge(x = conjunta_goles, y = marginal_golescasa, by.x = \"Goles_Casa\", \n",
    "          by.y = \"Goles\", all.x = TRUE, suffixes = c(\"\",\".Casa\")) \n",
    "    conjunta_goles <- merge(x = conjunta_goles, y = marginal_golesvis, by.x = \"Goles_Vis\", \n",
    "          by.y = \"Goles\", all.x = TRUE, suffixes = c(\"\",\".Vis\"))\n",
    "    conjunta_goles[\"Producto_Marginales\"] =  conjunta_goles[\"Probabilidad.Casa\"]*conjunta_goles[\"Probabilidad.Vis\"] # Producto\n",
    "    conjunta_goles[\"Cociente\"] = conjunta_goles[\"Probabilidad\"]/conjunta_goles[\"Producto_Marginales\"] # Cociente\n",
    "    conjunta_goles[\"id_goles\"] = paste0(conjunta_goles[[\"Goles_Casa\"]], \"_\", conjunta_goles[[\"Goles_Vis\"]]) # (x,y)\n",
    "    \n",
    "    return(conjunta_goles[, c(\"id_goles\", \"Cociente\")])\n",
    "} "
   ]
  },
  {
   "cell_type": "code",
   "execution_count": 4,
   "id": "9504804f",
   "metadata": {},
   "outputs": [
    {
     "data": {
      "text/html": [
       "<table class=\"dataframe\">\n",
       "<caption>A data.frame: 5 × 2</caption>\n",
       "<thead>\n",
       "\t<tr><th></th><th scope=col>id_goles</th><th scope=col>Cociente</th></tr>\n",
       "\t<tr><th></th><th scope=col>&lt;chr&gt;</th><th scope=col>&lt;dbl&gt;</th></tr>\n",
       "</thead>\n",
       "<tbody>\n",
       "\t<tr><th scope=row>1</th><td>0_0</td><td>0.9547829</td></tr>\n",
       "\t<tr><th scope=row>2</th><td>3_0</td><td>1.1327151</td></tr>\n",
       "\t<tr><th scope=row>3</th><td>1_0</td><td>1.0060639</td></tr>\n",
       "\t<tr><th scope=row>4</th><td>7_0</td><td>0.0000000</td></tr>\n",
       "\t<tr><th scope=row>5</th><td>4_0</td><td>1.1371571</td></tr>\n",
       "</tbody>\n",
       "</table>\n"
      ],
      "text/latex": [
       "A data.frame: 5 × 2\n",
       "\\begin{tabular}{r|ll}\n",
       "  & id\\_goles & Cociente\\\\\n",
       "  & <chr> & <dbl>\\\\\n",
       "\\hline\n",
       "\t1 & 0\\_0 & 0.9547829\\\\\n",
       "\t2 & 3\\_0 & 1.1327151\\\\\n",
       "\t3 & 1\\_0 & 1.0060639\\\\\n",
       "\t4 & 7\\_0 & 0.0000000\\\\\n",
       "\t5 & 4\\_0 & 1.1371571\\\\\n",
       "\\end{tabular}\n"
      ],
      "text/markdown": [
       "\n",
       "A data.frame: 5 × 2\n",
       "\n",
       "| <!--/--> | id_goles &lt;chr&gt; | Cociente &lt;dbl&gt; |\n",
       "|---|---|---|\n",
       "| 1 | 0_0 | 0.9547829 |\n",
       "| 2 | 3_0 | 1.1327151 |\n",
       "| 3 | 1_0 | 1.0060639 |\n",
       "| 4 | 7_0 | 0.0000000 |\n",
       "| 5 | 4_0 | 1.1371571 |\n",
       "\n"
      ],
      "text/plain": [
       "  id_goles Cociente \n",
       "1 0_0      0.9547829\n",
       "2 3_0      1.1327151\n",
       "3 1_0      1.0060639\n",
       "4 7_0      0.0000000\n",
       "5 4_0      1.1371571"
      ]
     },
     "metadata": {},
     "output_type": "display_data"
    }
   ],
   "source": [
    "head(cociente(datos), 5)"
   ]
  },
  {
   "cell_type": "code",
   "execution_count": 5,
   "id": "d94743c9",
   "metadata": {},
   "outputs": [
    {
     "name": "stdout",
     "output_type": "stream",
     "text": [
      "'data.frame':\t63 obs. of  2 variables:\n",
      " $ id_goles: chr  \"0_0\" \"3_0\" \"1_0\" \"7_0\" ...\n",
      " $ Cociente: num  0.955 1.133 1.006 0 1.137 ...\n"
     ]
    }
   ],
   "source": [
    "str(cociente(datos))"
   ]
  },
  {
   "cell_type": "markdown",
   "id": "067b2404",
   "metadata": {},
   "source": [
    "La media de los cocientes es 0.85 lo que nos puede dar una idea de que no hay independencia, más aún en el boxplot nos da indicios de varios valores atípicos, para poder confirmar que no hay independencia procederemos al ejercicio 2."
   ]
  },
  {
   "cell_type": "code",
   "execution_count": 6,
   "id": "a6e52e78",
   "metadata": {},
   "outputs": [
    {
     "data": {
      "text/plain": [
       "   Min. 1st Qu.  Median    Mean 3rd Qu.    Max. \n",
       " 0.0000  0.0000  0.8814  0.8596  1.0777  4.7107 "
      ]
     },
     "metadata": {},
     "output_type": "display_data"
    }
   ],
   "source": [
    "summary(cociente(datos)$Cociente)"
   ]
  },
  {
   "cell_type": "code",
   "execution_count": 7,
   "id": "c6bb104a",
   "metadata": {},
   "outputs": [
    {
     "data": {
      "image/png": "[encoded data removed]",
      "text/plain": [
       "plot without title"
      ]
     },
     "metadata": {
      "image/png": {
       "height": 420,
       "width": 420
      }
     },
     "output_type": "display_data"
    }
   ],
   "source": [
    "boxplot(cociente(datos)$Cociente)"
   ]
  },
  {
   "cell_type": "markdown",
   "id": "1985ca55",
   "metadata": {},
   "source": [
    "#### Solución 2\n",
    "\n",
    "Primero tomamos 1000 muestras bootstraps (Con remplazo).\n",
    "\n",
    "$\\textbf{Nota:}$ El objeto $\\textit{datos_boot\\$splits}$ es una lista con las 1000 muestras."
   ]
  },
  {
   "cell_type": "code",
   "execution_count": 8,
   "id": "1005b55b",
   "metadata": {},
   "outputs": [
    {
     "data": {
      "text/html": [
       "<table class=\"dataframe\">\n",
       "<caption>A data.frame: 6 × 6</caption>\n",
       "<thead>\n",
       "\t<tr><th></th><th scope=col>Date</th><th scope=col>HomeTeam</th><th scope=col>AwayTeam</th><th scope=col>FTHG</th><th scope=col>FTAG</th><th scope=col>FTR</th></tr>\n",
       "\t<tr><th></th><th scope=col>&lt;date&gt;</th><th scope=col>&lt;chr&gt;</th><th scope=col>&lt;chr&gt;</th><th scope=col>&lt;int&gt;</th><th scope=col>&lt;int&gt;</th><th scope=col>&lt;chr&gt;</th></tr>\n",
       "</thead>\n",
       "<tbody>\n",
       "\t<tr><th scope=row>647</th><td>2020-03-10</td><td>Girona  </td><td>Valencia  </td><td>2</td><td>3</td><td>A</td></tr>\n",
       "\t<tr><th scope=row>477</th><td>2020-10-28</td><td>Alaves  </td><td>Villarreal</td><td>2</td><td>1</td><td>H</td></tr>\n",
       "\t<tr><th scope=row>1073</th><td>2020-06-27</td><td>Celta   </td><td>Barcelona </td><td>2</td><td>2</td><td>D</td></tr>\n",
       "\t<tr><th scope=row>72</th><td>2017-10-14</td><td>Alaves  </td><td>Sociedad  </td><td>0</td><td>2</td><td>A</td></tr>\n",
       "\t<tr><th scope=row>282</th><td>2018-03-17</td><td>Betis   </td><td>Espanol   </td><td>3</td><td>0</td><td>H</td></tr>\n",
       "\t<tr><th scope=row>59</th><td>2017-09-24</td><td>Sociedad</td><td>Valencia  </td><td>2</td><td>3</td><td>A</td></tr>\n",
       "</tbody>\n",
       "</table>\n"
      ],
      "text/latex": [
       "A data.frame: 6 × 6\n",
       "\\begin{tabular}{r|llllll}\n",
       "  & Date & HomeTeam & AwayTeam & FTHG & FTAG & FTR\\\\\n",
       "  & <date> & <chr> & <chr> & <int> & <int> & <chr>\\\\\n",
       "\\hline\n",
       "\t647 & 2020-03-10 & Girona   & Valencia   & 2 & 3 & A\\\\\n",
       "\t477 & 2020-10-28 & Alaves   & Villarreal & 2 & 1 & H\\\\\n",
       "\t1073 & 2020-06-27 & Celta    & Barcelona  & 2 & 2 & D\\\\\n",
       "\t72 & 2017-10-14 & Alaves   & Sociedad   & 0 & 2 & A\\\\\n",
       "\t282 & 2018-03-17 & Betis    & Espanol    & 3 & 0 & H\\\\\n",
       "\t59 & 2017-09-24 & Sociedad & Valencia   & 2 & 3 & A\\\\\n",
       "\\end{tabular}\n"
      ],
      "text/markdown": [
       "\n",
       "A data.frame: 6 × 6\n",
       "\n",
       "| <!--/--> | Date &lt;date&gt; | HomeTeam &lt;chr&gt; | AwayTeam &lt;chr&gt; | FTHG &lt;int&gt; | FTAG &lt;int&gt; | FTR &lt;chr&gt; |\n",
       "|---|---|---|---|---|---|---|\n",
       "| 647 | 2020-03-10 | Girona   | Valencia   | 2 | 3 | A |\n",
       "| 477 | 2020-10-28 | Alaves   | Villarreal | 2 | 1 | H |\n",
       "| 1073 | 2020-06-27 | Celta    | Barcelona  | 2 | 2 | D |\n",
       "| 72 | 2017-10-14 | Alaves   | Sociedad   | 0 | 2 | A |\n",
       "| 282 | 2018-03-17 | Betis    | Espanol    | 3 | 0 | H |\n",
       "| 59 | 2017-09-24 | Sociedad | Valencia   | 2 | 3 | A |\n",
       "\n"
      ],
      "text/plain": [
       "     Date       HomeTeam AwayTeam   FTHG FTAG FTR\n",
       "647  2020-03-10 Girona   Valencia   2    3    A  \n",
       "477  2020-10-28 Alaves   Villarreal 2    1    H  \n",
       "1073 2020-06-27 Celta    Barcelona  2    2    D  \n",
       "72   2017-10-14 Alaves   Sociedad   0    2    A  \n",
       "282  2018-03-17 Betis    Espanol    3    0    H  \n",
       "59   2017-09-24 Sociedad Valencia   2    3    A  "
      ]
     },
     "metadata": {},
     "output_type": "display_data"
    }
   ],
   "source": [
    "set.seed(25)\n",
    "# Bootstrap con 1000 muestras\n",
    "n_muestras = 1000\n",
    "datos_boot <- bootstraps(datos, times = n_muestras)\n",
    "\n",
    "# Mostramos la primera muestra para ejemplificar.\n",
    "head(as.data.frame(datos_boot$splits[[1]]))"
   ]
  },
  {
   "cell_type": "markdown",
   "id": "2dfea906",
   "metadata": {},
   "source": [
    "Ahora calculamos los cocientes $\\frac{\\mathbb{P}(X = x, Y = y)}{\\mathbb{P}(X = x)\\mathbb{P}(Y = y)}$ para cada una de las muestras obtenidas. \n",
    "\n",
    "$\\textbf{Nota:}$ El data.frame $\\textit{muestras}$ tiene como columnas los cocientes para cada observación $(x, y)$ y las filas son las muestras de ese cociente."
   ]
  },
  {
   "cell_type": "code",
   "execution_count": 9,
   "id": "7bcb2940",
   "metadata": {
    "scrolled": true
   },
   "outputs": [
    {
     "data": {
      "text/html": [
       "<table class=\"dataframe\">\n",
       "<caption>A data.frame: 6 × 63</caption>\n",
       "<thead>\n",
       "\t<tr><th></th><th scope=col>Cociente_0_0</th><th scope=col>Cociente_0_1</th><th scope=col>Cociente_0_2</th><th scope=col>Cociente_0_3</th><th scope=col>Cociente_0_4</th><th scope=col>Cociente_0_5</th><th scope=col>Cociente_0_6</th><th scope=col>Cociente_1_0</th><th scope=col>Cociente_1_1</th><th scope=col>Cociente_1_2</th><th scope=col>...</th><th scope=col>Cociente_7_4</th><th scope=col>Cociente_7_5</th><th scope=col>Cociente_7_6</th><th scope=col>Cociente_8_0</th><th scope=col>Cociente_8_1</th><th scope=col>Cociente_8_2</th><th scope=col>Cociente_8_3</th><th scope=col>Cociente_8_4</th><th scope=col>Cociente_8_5</th><th scope=col>Cociente_8_6</th></tr>\n",
       "\t<tr><th></th><th scope=col>&lt;dbl&gt;</th><th scope=col>&lt;dbl&gt;</th><th scope=col>&lt;dbl&gt;</th><th scope=col>&lt;dbl&gt;</th><th scope=col>&lt;dbl&gt;</th><th scope=col>&lt;dbl&gt;</th><th scope=col>&lt;dbl&gt;</th><th scope=col>&lt;dbl&gt;</th><th scope=col>&lt;dbl&gt;</th><th scope=col>&lt;dbl&gt;</th><th scope=col>...</th><th scope=col>&lt;dbl&gt;</th><th scope=col>&lt;dbl&gt;</th><th scope=col>&lt;dbl&gt;</th><th scope=col>&lt;dbl&gt;</th><th scope=col>&lt;dbl&gt;</th><th scope=col>&lt;dbl&gt;</th><th scope=col>&lt;dbl&gt;</th><th scope=col>&lt;dbl&gt;</th><th scope=col>&lt;dbl&gt;</th><th scope=col>&lt;dbl&gt;</th></tr>\n",
       "</thead>\n",
       "<tbody>\n",
       "\t<tr><th scope=row>1</th><td>0.9085933</td><td>1.0531536</td><td>0.9030506</td><td>1.5455349</td><td>1.0191571</td><td>1.455939</td><td>0</td><td>0.9745939</td><td>1.0713176</td><td>0.9816585</td><td>...</td><td>0</td><td>0</td><td>0</td><td>0</td><td>0</td><td>4.810127</td><td>0</td><td>0</td><td>0</td><td>0</td></tr>\n",
       "\t<tr><th scope=row>2</th><td>0.9774989</td><td>1.0579793</td><td>0.8674276</td><td>1.3906429</td><td>0.7089552</td><td>2.126866</td><td>0</td><td>1.0922230</td><td>1.0218887</td><td>0.9086561</td><td>...</td><td>0</td><td>0</td><td>0</td><td>0</td><td>0</td><td>4.470588</td><td>0</td><td>0</td><td>0</td><td>0</td></tr>\n",
       "\t<tr><th scope=row>3</th><td>0.9006680</td><td>1.1379121</td><td>0.8800291</td><td>1.3394153</td><td>0.5219780</td><td>2.087912</td><td>0</td><td>1.1292289</td><td>0.9967617</td><td>0.8542800</td><td>...</td><td>0</td><td>0</td><td>0</td><td>0</td><td>0</td><td>4.710744</td><td>0</td><td>0</td><td>0</td><td>0</td></tr>\n",
       "\t<tr><th scope=row>4</th><td>1.1015957</td><td>0.9050492</td><td>0.9482532</td><td>0.8421986</td><td>1.3078849</td><td>2.526596</td><td>0</td><td>0.9627346</td><td>1.0643832</td><td>0.8804157</td><td>...</td><td>0</td><td>0</td><td>0</td><td>0</td><td>0</td><td>4.691358</td><td>0</td><td>0</td><td>0</td><td>0</td></tr>\n",
       "\t<tr><th scope=row>5</th><td>0.9359606</td><td>0.9364732</td><td>0.9235224</td><td>1.7441193</td><td>1.2119064</td><td>2.861446</td><td>0</td><td>0.9753695</td><td>1.0833333</td><td>0.9399142</td><td>...</td><td>0</td><td>0</td><td>0</td><td>0</td><td>0</td><td>4.892704</td><td>0</td><td>0</td><td>0</td><td>0</td></tr>\n",
       "\t<tr><th scope=row>6</th><td>0.9456019</td><td>1.0345644</td><td>0.9334061</td><td>1.4843750</td><td>0.9375000</td><td>1.484375</td><td>0</td><td>0.9840410</td><td>0.9830007</td><td>1.1332410</td><td>...</td><td>0</td><td>0</td><td>0</td><td>0</td><td>0</td><td>0.000000</td><td>0</td><td>0</td><td>0</td><td>0</td></tr>\n",
       "</tbody>\n",
       "</table>\n"
      ],
      "text/latex": [
       "A data.frame: 6 × 63\n",
       "\\begin{tabular}{r|lllllllllllllllllllll}\n",
       "  & Cociente\\_0\\_0 & Cociente\\_0\\_1 & Cociente\\_0\\_2 & Cociente\\_0\\_3 & Cociente\\_0\\_4 & Cociente\\_0\\_5 & Cociente\\_0\\_6 & Cociente\\_1\\_0 & Cociente\\_1\\_1 & Cociente\\_1\\_2 & ... & Cociente\\_7\\_4 & Cociente\\_7\\_5 & Cociente\\_7\\_6 & Cociente\\_8\\_0 & Cociente\\_8\\_1 & Cociente\\_8\\_2 & Cociente\\_8\\_3 & Cociente\\_8\\_4 & Cociente\\_8\\_5 & Cociente\\_8\\_6\\\\\n",
       "  & <dbl> & <dbl> & <dbl> & <dbl> & <dbl> & <dbl> & <dbl> & <dbl> & <dbl> & <dbl> & ... & <dbl> & <dbl> & <dbl> & <dbl> & <dbl> & <dbl> & <dbl> & <dbl> & <dbl> & <dbl>\\\\\n",
       "\\hline\n",
       "\t1 & 0.9085933 & 1.0531536 & 0.9030506 & 1.5455349 & 1.0191571 & 1.455939 & 0 & 0.9745939 & 1.0713176 & 0.9816585 & ... & 0 & 0 & 0 & 0 & 0 & 4.810127 & 0 & 0 & 0 & 0\\\\\n",
       "\t2 & 0.9774989 & 1.0579793 & 0.8674276 & 1.3906429 & 0.7089552 & 2.126866 & 0 & 1.0922230 & 1.0218887 & 0.9086561 & ... & 0 & 0 & 0 & 0 & 0 & 4.470588 & 0 & 0 & 0 & 0\\\\\n",
       "\t3 & 0.9006680 & 1.1379121 & 0.8800291 & 1.3394153 & 0.5219780 & 2.087912 & 0 & 1.1292289 & 0.9967617 & 0.8542800 & ... & 0 & 0 & 0 & 0 & 0 & 4.710744 & 0 & 0 & 0 & 0\\\\\n",
       "\t4 & 1.1015957 & 0.9050492 & 0.9482532 & 0.8421986 & 1.3078849 & 2.526596 & 0 & 0.9627346 & 1.0643832 & 0.8804157 & ... & 0 & 0 & 0 & 0 & 0 & 4.691358 & 0 & 0 & 0 & 0\\\\\n",
       "\t5 & 0.9359606 & 0.9364732 & 0.9235224 & 1.7441193 & 1.2119064 & 2.861446 & 0 & 0.9753695 & 1.0833333 & 0.9399142 & ... & 0 & 0 & 0 & 0 & 0 & 4.892704 & 0 & 0 & 0 & 0\\\\\n",
       "\t6 & 0.9456019 & 1.0345644 & 0.9334061 & 1.4843750 & 0.9375000 & 1.484375 & 0 & 0.9840410 & 0.9830007 & 1.1332410 & ... & 0 & 0 & 0 & 0 & 0 & 0.000000 & 0 & 0 & 0 & 0\\\\\n",
       "\\end{tabular}\n"
      ],
      "text/markdown": [
       "\n",
       "A data.frame: 6 × 63\n",
       "\n",
       "| <!--/--> | Cociente_0_0 &lt;dbl&gt; | Cociente_0_1 &lt;dbl&gt; | Cociente_0_2 &lt;dbl&gt; | Cociente_0_3 &lt;dbl&gt; | Cociente_0_4 &lt;dbl&gt; | Cociente_0_5 &lt;dbl&gt; | Cociente_0_6 &lt;dbl&gt; | Cociente_1_0 &lt;dbl&gt; | Cociente_1_1 &lt;dbl&gt; | Cociente_1_2 &lt;dbl&gt; | ... ... | Cociente_7_4 &lt;dbl&gt; | Cociente_7_5 &lt;dbl&gt; | Cociente_7_6 &lt;dbl&gt; | Cociente_8_0 &lt;dbl&gt; | Cociente_8_1 &lt;dbl&gt; | Cociente_8_2 &lt;dbl&gt; | Cociente_8_3 &lt;dbl&gt; | Cociente_8_4 &lt;dbl&gt; | Cociente_8_5 &lt;dbl&gt; | Cociente_8_6 &lt;dbl&gt; |\n",
       "|---|---|---|---|---|---|---|---|---|---|---|---|---|---|---|---|---|---|---|---|---|---|\n",
       "| 1 | 0.9085933 | 1.0531536 | 0.9030506 | 1.5455349 | 1.0191571 | 1.455939 | 0 | 0.9745939 | 1.0713176 | 0.9816585 | ... | 0 | 0 | 0 | 0 | 0 | 4.810127 | 0 | 0 | 0 | 0 |\n",
       "| 2 | 0.9774989 | 1.0579793 | 0.8674276 | 1.3906429 | 0.7089552 | 2.126866 | 0 | 1.0922230 | 1.0218887 | 0.9086561 | ... | 0 | 0 | 0 | 0 | 0 | 4.470588 | 0 | 0 | 0 | 0 |\n",
       "| 3 | 0.9006680 | 1.1379121 | 0.8800291 | 1.3394153 | 0.5219780 | 2.087912 | 0 | 1.1292289 | 0.9967617 | 0.8542800 | ... | 0 | 0 | 0 | 0 | 0 | 4.710744 | 0 | 0 | 0 | 0 |\n",
       "| 4 | 1.1015957 | 0.9050492 | 0.9482532 | 0.8421986 | 1.3078849 | 2.526596 | 0 | 0.9627346 | 1.0643832 | 0.8804157 | ... | 0 | 0 | 0 | 0 | 0 | 4.691358 | 0 | 0 | 0 | 0 |\n",
       "| 5 | 0.9359606 | 0.9364732 | 0.9235224 | 1.7441193 | 1.2119064 | 2.861446 | 0 | 0.9753695 | 1.0833333 | 0.9399142 | ... | 0 | 0 | 0 | 0 | 0 | 4.892704 | 0 | 0 | 0 | 0 |\n",
       "| 6 | 0.9456019 | 1.0345644 | 0.9334061 | 1.4843750 | 0.9375000 | 1.484375 | 0 | 0.9840410 | 0.9830007 | 1.1332410 | ... | 0 | 0 | 0 | 0 | 0 | 0.000000 | 0 | 0 | 0 | 0 |\n",
       "\n"
      ],
      "text/plain": [
       "  Cociente_0_0 Cociente_0_1 Cociente_0_2 Cociente_0_3 Cociente_0_4 Cociente_0_5\n",
       "1 0.9085933    1.0531536    0.9030506    1.5455349    1.0191571    1.455939    \n",
       "2 0.9774989    1.0579793    0.8674276    1.3906429    0.7089552    2.126866    \n",
       "3 0.9006680    1.1379121    0.8800291    1.3394153    0.5219780    2.087912    \n",
       "4 1.1015957    0.9050492    0.9482532    0.8421986    1.3078849    2.526596    \n",
       "5 0.9359606    0.9364732    0.9235224    1.7441193    1.2119064    2.861446    \n",
       "6 0.9456019    1.0345644    0.9334061    1.4843750    0.9375000    1.484375    \n",
       "  Cociente_0_6 Cociente_1_0 Cociente_1_1 Cociente_1_2 ... Cociente_7_4\n",
       "1 0            0.9745939    1.0713176    0.9816585    ... 0           \n",
       "2 0            1.0922230    1.0218887    0.9086561    ... 0           \n",
       "3 0            1.1292289    0.9967617    0.8542800    ... 0           \n",
       "4 0            0.9627346    1.0643832    0.8804157    ... 0           \n",
       "5 0            0.9753695    1.0833333    0.9399142    ... 0           \n",
       "6 0            0.9840410    0.9830007    1.1332410    ... 0           \n",
       "  Cociente_7_5 Cociente_7_6 Cociente_8_0 Cociente_8_1 Cociente_8_2 Cociente_8_3\n",
       "1 0            0            0            0            4.810127     0           \n",
       "2 0            0            0            0            4.470588     0           \n",
       "3 0            0            0            0            4.710744     0           \n",
       "4 0            0            0            0            4.691358     0           \n",
       "5 0            0            0            0            4.892704     0           \n",
       "6 0            0            0            0            0.000000     0           \n",
       "  Cociente_8_4 Cociente_8_5 Cociente_8_6\n",
       "1 0            0            0           \n",
       "2 0            0            0           \n",
       "3 0            0            0           \n",
       "4 0            0            0           \n",
       "5 0            0            0           \n",
       "6 0            0            0           "
      ]
     },
     "metadata": {},
     "output_type": "display_data"
    }
   ],
   "source": [
    "# Lista con los cocientes de cada muestra\n",
    "muestras <- lapply(datos_boot$splits, function(x) cociente(as.data.frame(x))) \n",
    "\n",
    "# Juntando en un solo DF\n",
    "muestras <- Reduce(function(x,y) merge(x, y, by = \"id_goles\", all = TRUE), muestras)\n",
    "\n",
    "# Nombres de las columnas\n",
    "names(muestras) <- c(\"id_goles\", to_vec(for (i in 1:n_muestras) paste0(\"Muestra_\", i)))\n",
    "\n",
    "# Columnas del nuevo data frame \n",
    "nuevas_col <- to_vec(for(id in muestras$id_goles) paste0(\"Cociente_\", id))\n",
    "\n",
    "# Transponemos\n",
    "muestras <- transpose(select(muestras, -id_goles))\n",
    "names(muestras) <- nuevas_col\n",
    "\n",
    "# Llenamos con cero los NA's\n",
    "muestras[is.na(muestras)] <- 0 # Los eventos que no sucedieron tienen probabilidad cero\n",
    "head(muestras)"
   ]
  },
  {
   "cell_type": "markdown",
   "id": "d8205db2",
   "metadata": {},
   "source": [
    "Se muestran los histogramas para unos cocientes, vemos que algunas distribuciones están centras cerca de 1 pero otras están muy alejadas de 1 ya sea a la izquierda o la derecha. El histograma que tiene solo un rectángulo grande, solo tiene valores cero lo que significa que el evento nunca sucedió, tiene sentido es muy raro que el equipo de casa anote cero goles y el visitante 6 cuando sabemos que usualmente tiene ventaja el equipo de casa."
   ]
  },
  {
   "cell_type": "code",
   "execution_count": 10,
   "id": "d6a42473",
   "metadata": {},
   "outputs": [
    {
     "data": {
      "image/png": "[encoded data removed]",
      "text/plain": [
       "Plot with title \"Cociente_1_2\""
      ]
     },
     "metadata": {
      "image/png": {
       "height": 420,
       "width": 420
      }
     },
     "output_type": "display_data"
    }
   ],
   "source": [
    "par(mfrow=c(2,5))\n",
    "for(i in 1:10) hist(muestras[ , i], main = names(muestras)[i])"
   ]
  },
  {
   "cell_type": "markdown",
   "id": "3ae54c0a",
   "metadata": {},
   "source": [
    "Por el teorema central del límite podemos aproximar la distribución de cada cociente a una normal, así que podemos hacer una prueba de hipotesis y ver si su media es 1.\n",
    "\n",
    "$$H_0: \\mu = 1 $$\n",
    "$$H_1: \\mu \\neq 1 $$"
   ]
  },
  {
   "cell_type": "code",
   "execution_count": 11,
   "id": "db38cf9b",
   "metadata": {},
   "outputs": [
    {
     "data": {
      "text/html": [
       "<style>\n",
       ".list-inline {list-style: none; margin:0; padding: 0}\n",
       ".list-inline>li {display: inline-block}\n",
       ".list-inline>li:not(:last-child)::after {content: \"\\00b7\"; padding: 0 .5ex}\n",
       "</style>\n",
       "<ol class=list-inline><li>'Cociente_3_3'</li><li>'Cociente_6_1'</li></ol>\n"
      ],
      "text/latex": [
       "\\begin{enumerate*}\n",
       "\\item 'Cociente\\_3\\_3'\n",
       "\\item 'Cociente\\_6\\_1'\n",
       "\\end{enumerate*}\n"
      ],
      "text/markdown": [
       "1. 'Cociente_3_3'\n",
       "2. 'Cociente_6_1'\n",
       "\n",
       "\n"
      ],
      "text/plain": [
       "[1] \"Cociente_3_3\" \"Cociente_6_1\""
      ]
     },
     "metadata": {},
     "output_type": "display_data"
    }
   ],
   "source": [
    "# Suponiendo que la normalización es una buena aproximación y como n > 30 haremos\n",
    "# una prueba de dos colas con:\n",
    "# H_0: mu = 1, H_1: mu != 1\n",
    "alpha <- 0.05\n",
    "\n",
    "prueba_dos_colas <- function(ma_cociente, mu = 1){\n",
    "    n <- length(ma_cociente)\n",
    "    \n",
    "    # Prueba\n",
    "    estadistico <- (mean(ma_cociente, na.rm = TRUE) - mu)/(sd(ma_cociente, na.rm = TRUE)/n**(1/2))\n",
    "    pvalue <- pnorm(abs(estadistico), lower.tail = FALSE)*2    \n",
    "    \n",
    "    return(pvalue)\n",
    "}\n",
    "\n",
    "pruebas <- sapply(muestras, prueba_dos_colas)\n",
    "(no_rechazo <- names(which(pruebas > alpha))) # Cocientes dónde no rechazamos"
   ]
  },
  {
   "cell_type": "markdown",
   "id": "9e20977e",
   "metadata": {},
   "source": [
    "De todos los 63 cocientes que tenemos solo en dos no rechazamos (3_3 y 6_1) que tengan media igual a 1 y en todos los demás rechazamos $H_0$ por lo cual podemos decir que $X$ y $Y$ no son independientes. Esto puede deberse a que la cantidad de goles del equipo contrario afecte moralmente al otro equipo ya sea postiva o negativamente.\n",
    "\n",
    "Veamos los histogramas de los cocientes dónde no rechazamos que su media sea igual a 1. Podemos ver que ambas están centradas en 1 la cual puede ser la razón de no haber rechazado."
   ]
  },
  {
   "cell_type": "code",
   "execution_count": 12,
   "id": "f7b5688f",
   "metadata": {},
   "outputs": [
    {
     "data": {
      "image/png": "[encoded data removed]",
      "text/plain": [
       "Plot with title \"Cociente_6_1\""
      ]
     },
     "metadata": {
      "image/png": {
       "height": 420,
       "width": 420
      }
     },
     "output_type": "display_data"
    }
   ],
   "source": [
    "par(mfrow=c(1,2))\n",
    "for(i in 1:2) hist(muestras[no_rechazo][ , i], main = names(muestras[no_rechazo])[i])"
   ]
  }
 ],
 "metadata": {
  "kernelspec": {
   "display_name": "R",
   "language": "R",
   "name": "ir"
  },
  "language_info": {
   "codemirror_mode": "r",
   "file_extension": ".r",
   "mimetype": "text/x-r-source",
   "name": "R",
   "pygments_lexer": "r",
   "version": "4.1.0"
  },
  "toc": {
   "base_numbering": 1,
   "nav_menu": {},
   "number_sections": false,
   "sideBar": true,
   "skip_h1_title": false,
   "title_cell": "Table of Contents",
   "title_sidebar": "Contents",
   "toc_cell": false,
   "toc_position": {},
   "toc_section_display": true,
   "toc_window_display": false
  }
 },
 "nbformat": 4,
 "nbformat_minor": 5
}
